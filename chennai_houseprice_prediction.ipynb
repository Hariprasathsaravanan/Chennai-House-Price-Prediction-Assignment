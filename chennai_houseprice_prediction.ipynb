{
  "nbformat": 4,
  "nbformat_minor": 0,
  "metadata": {
    "colab": {
      "name": "chennai_houseprice_prediction.ipynb",
      "provenance": [],
      "collapsed_sections": [],
      "mount_file_id": "1xWATGx0SHufoQyKcXgd-G1qNeFdZ09tQ",
      "authorship_tag": "ABX9TyN3xO70a5MZks6be4wtxn7R",
      "include_colab_link": true
    },
    "kernelspec": {
      "name": "python3",
      "display_name": "Python 3"
    },
    "language_info": {
      "name": "python"
    }
  },
  "cells": [
    {
      "cell_type": "markdown",
      "metadata": {
        "id": "view-in-github",
        "colab_type": "text"
      },
      "source": [
        "<a href=\"https://colab.research.google.com/github/Hariprasathsaravanan/Chennai-House-Price-Prediction-Assignment/blob/main/chennai_houseprice_prediction.ipynb\" target=\"_parent\"><img src=\"https://colab.research.google.com/assets/colab-badge.svg\" alt=\"Open In Colab\"/></a>"
      ]
    },
    {
      "cell_type": "code",
      "execution_count": null,
      "metadata": {
        "id": "G1uKMcWNEIC-"
      },
      "outputs": [],
      "source": [
        "#Importing all the necessary Libraries\n",
        "import pandas as pd\n",
        "import numpy as np\n",
        "import matplotlib.pyplot as plt\n",
        "import seaborn as sns\n",
        "from sklearn.model_selection import train_test_split\n",
        "from sklearn.model_selection import cross_val_score\n",
        "from sklearn.linear_model import LinearRegression\n",
        "from sklearn.neighbors import KNeighborsRegressor\n",
        "from sklearn.tree import DecisionTreeRegressor\n",
        "from sklearn.ensemble import RandomForestRegressor\n",
        "from xgboost import XGBRegressor\n",
        "from sklearn import metrics"
      ]
    },
    {
      "cell_type": "code",
      "source": [
        "from google.colab import drive"
      ],
      "metadata": {
        "id": "SK7digTvEoSh"
      },
      "execution_count": null,
      "outputs": []
    },
    {
      "cell_type": "markdown",
      "source": [
        "**Data Collection and Data Preprocessing**"
      ],
      "metadata": {
        "id": "3HIY-pOMFGVq"
      }
    },
    {
      "cell_type": "code",
      "source": [
        "#Load the Training dataset from google drive\n",
        "df=pd.read_csv('/content/drive/MyDrive/dataset.csv')\n",
        "df.head()"
      ],
      "metadata": {
        "colab": {
          "base_uri": "https://localhost:8080/",
          "height": 386
        },
        "id": "knPp7n7HFNs0",
        "outputId": "4942693a-2ef7-417e-caa6-eeb420ea197e"
      },
      "execution_count": null,
      "outputs": [
        {
          "output_type": "execute_result",
          "data": {
            "text/html": [
              "\n",
              "  <div id=\"df-c8a36951-9ec9-4f9e-96f4-1a4399f433f1\">\n",
              "    <div class=\"colab-df-container\">\n",
              "      <div>\n",
              "<style scoped>\n",
              "    .dataframe tbody tr th:only-of-type {\n",
              "        vertical-align: middle;\n",
              "    }\n",
              "\n",
              "    .dataframe tbody tr th {\n",
              "        vertical-align: top;\n",
              "    }\n",
              "\n",
              "    .dataframe thead th {\n",
              "        text-align: right;\n",
              "    }\n",
              "</style>\n",
              "<table border=\"1\" class=\"dataframe\">\n",
              "  <thead>\n",
              "    <tr style=\"text-align: right;\">\n",
              "      <th></th>\n",
              "      <th>PRT_ID</th>\n",
              "      <th>AREA</th>\n",
              "      <th>INT_SQFT</th>\n",
              "      <th>DATE_SALE</th>\n",
              "      <th>DIST_MAINROAD</th>\n",
              "      <th>N_BEDROOM</th>\n",
              "      <th>N_BATHROOM</th>\n",
              "      <th>N_ROOM</th>\n",
              "      <th>SALE_COND</th>\n",
              "      <th>PARK_FACIL</th>\n",
              "      <th>...</th>\n",
              "      <th>UTILITY_AVAIL</th>\n",
              "      <th>STREET</th>\n",
              "      <th>MZZONE</th>\n",
              "      <th>QS_ROOMS</th>\n",
              "      <th>QS_BATHROOM</th>\n",
              "      <th>QS_BEDROOM</th>\n",
              "      <th>QS_OVERALL</th>\n",
              "      <th>REG_FEE</th>\n",
              "      <th>COMMIS</th>\n",
              "      <th>SALES_PRICE</th>\n",
              "    </tr>\n",
              "  </thead>\n",
              "  <tbody>\n",
              "    <tr>\n",
              "      <th>0</th>\n",
              "      <td>P03210</td>\n",
              "      <td>Karapakkam</td>\n",
              "      <td>1004</td>\n",
              "      <td>04-05-2011</td>\n",
              "      <td>131</td>\n",
              "      <td>1.0</td>\n",
              "      <td>1.0</td>\n",
              "      <td>3</td>\n",
              "      <td>AbNormal</td>\n",
              "      <td>Yes</td>\n",
              "      <td>...</td>\n",
              "      <td>AllPub</td>\n",
              "      <td>Paved</td>\n",
              "      <td>A</td>\n",
              "      <td>4.0</td>\n",
              "      <td>3.9</td>\n",
              "      <td>4.9</td>\n",
              "      <td>4.330</td>\n",
              "      <td>380000</td>\n",
              "      <td>144400</td>\n",
              "      <td>7600000</td>\n",
              "    </tr>\n",
              "    <tr>\n",
              "      <th>1</th>\n",
              "      <td>P09411</td>\n",
              "      <td>Anna Nagar</td>\n",
              "      <td>1986</td>\n",
              "      <td>19-12-2006</td>\n",
              "      <td>26</td>\n",
              "      <td>2.0</td>\n",
              "      <td>1.0</td>\n",
              "      <td>5</td>\n",
              "      <td>AbNormal</td>\n",
              "      <td>No</td>\n",
              "      <td>...</td>\n",
              "      <td>AllPub</td>\n",
              "      <td>Gravel</td>\n",
              "      <td>RH</td>\n",
              "      <td>4.9</td>\n",
              "      <td>4.2</td>\n",
              "      <td>2.5</td>\n",
              "      <td>3.765</td>\n",
              "      <td>760122</td>\n",
              "      <td>304049</td>\n",
              "      <td>21717770</td>\n",
              "    </tr>\n",
              "    <tr>\n",
              "      <th>2</th>\n",
              "      <td>P01812</td>\n",
              "      <td>Adyar</td>\n",
              "      <td>909</td>\n",
              "      <td>04-02-2012</td>\n",
              "      <td>70</td>\n",
              "      <td>1.0</td>\n",
              "      <td>1.0</td>\n",
              "      <td>3</td>\n",
              "      <td>AbNormal</td>\n",
              "      <td>Yes</td>\n",
              "      <td>...</td>\n",
              "      <td>ELO</td>\n",
              "      <td>Gravel</td>\n",
              "      <td>RL</td>\n",
              "      <td>4.1</td>\n",
              "      <td>3.8</td>\n",
              "      <td>2.2</td>\n",
              "      <td>3.090</td>\n",
              "      <td>421094</td>\n",
              "      <td>92114</td>\n",
              "      <td>13159200</td>\n",
              "    </tr>\n",
              "    <tr>\n",
              "      <th>3</th>\n",
              "      <td>P05346</td>\n",
              "      <td>Velachery</td>\n",
              "      <td>1855</td>\n",
              "      <td>13-03-2010</td>\n",
              "      <td>14</td>\n",
              "      <td>3.0</td>\n",
              "      <td>2.0</td>\n",
              "      <td>5</td>\n",
              "      <td>Family</td>\n",
              "      <td>No</td>\n",
              "      <td>...</td>\n",
              "      <td>NoSewr</td>\n",
              "      <td>Paved</td>\n",
              "      <td>I</td>\n",
              "      <td>4.7</td>\n",
              "      <td>3.9</td>\n",
              "      <td>3.6</td>\n",
              "      <td>4.010</td>\n",
              "      <td>356321</td>\n",
              "      <td>77042</td>\n",
              "      <td>9630290</td>\n",
              "    </tr>\n",
              "    <tr>\n",
              "      <th>4</th>\n",
              "      <td>P06210</td>\n",
              "      <td>Karapakkam</td>\n",
              "      <td>1226</td>\n",
              "      <td>05-10-2009</td>\n",
              "      <td>84</td>\n",
              "      <td>1.0</td>\n",
              "      <td>1.0</td>\n",
              "      <td>3</td>\n",
              "      <td>AbNormal</td>\n",
              "      <td>Yes</td>\n",
              "      <td>...</td>\n",
              "      <td>AllPub</td>\n",
              "      <td>Gravel</td>\n",
              "      <td>C</td>\n",
              "      <td>3.0</td>\n",
              "      <td>2.5</td>\n",
              "      <td>4.1</td>\n",
              "      <td>3.290</td>\n",
              "      <td>237000</td>\n",
              "      <td>74063</td>\n",
              "      <td>7406250</td>\n",
              "    </tr>\n",
              "  </tbody>\n",
              "</table>\n",
              "<p>5 rows × 22 columns</p>\n",
              "</div>\n",
              "      <button class=\"colab-df-convert\" onclick=\"convertToInteractive('df-c8a36951-9ec9-4f9e-96f4-1a4399f433f1')\"\n",
              "              title=\"Convert this dataframe to an interactive table.\"\n",
              "              style=\"display:none;\">\n",
              "        \n",
              "  <svg xmlns=\"http://www.w3.org/2000/svg\" height=\"24px\"viewBox=\"0 0 24 24\"\n",
              "       width=\"24px\">\n",
              "    <path d=\"M0 0h24v24H0V0z\" fill=\"none\"/>\n",
              "    <path d=\"M18.56 5.44l.94 2.06.94-2.06 2.06-.94-2.06-.94-.94-2.06-.94 2.06-2.06.94zm-11 1L8.5 8.5l.94-2.06 2.06-.94-2.06-.94L8.5 2.5l-.94 2.06-2.06.94zm10 10l.94 2.06.94-2.06 2.06-.94-2.06-.94-.94-2.06-.94 2.06-2.06.94z\"/><path d=\"M17.41 7.96l-1.37-1.37c-.4-.4-.92-.59-1.43-.59-.52 0-1.04.2-1.43.59L10.3 9.45l-7.72 7.72c-.78.78-.78 2.05 0 2.83L4 21.41c.39.39.9.59 1.41.59.51 0 1.02-.2 1.41-.59l7.78-7.78 2.81-2.81c.8-.78.8-2.07 0-2.86zM5.41 20L4 18.59l7.72-7.72 1.47 1.35L5.41 20z\"/>\n",
              "  </svg>\n",
              "      </button>\n",
              "      \n",
              "  <style>\n",
              "    .colab-df-container {\n",
              "      display:flex;\n",
              "      flex-wrap:wrap;\n",
              "      gap: 12px;\n",
              "    }\n",
              "\n",
              "    .colab-df-convert {\n",
              "      background-color: #E8F0FE;\n",
              "      border: none;\n",
              "      border-radius: 50%;\n",
              "      cursor: pointer;\n",
              "      display: none;\n",
              "      fill: #1967D2;\n",
              "      height: 32px;\n",
              "      padding: 0 0 0 0;\n",
              "      width: 32px;\n",
              "    }\n",
              "\n",
              "    .colab-df-convert:hover {\n",
              "      background-color: #E2EBFA;\n",
              "      box-shadow: 0px 1px 2px rgba(60, 64, 67, 0.3), 0px 1px 3px 1px rgba(60, 64, 67, 0.15);\n",
              "      fill: #174EA6;\n",
              "    }\n",
              "\n",
              "    [theme=dark] .colab-df-convert {\n",
              "      background-color: #3B4455;\n",
              "      fill: #D2E3FC;\n",
              "    }\n",
              "\n",
              "    [theme=dark] .colab-df-convert:hover {\n",
              "      background-color: #434B5C;\n",
              "      box-shadow: 0px 1px 3px 1px rgba(0, 0, 0, 0.15);\n",
              "      filter: drop-shadow(0px 1px 2px rgba(0, 0, 0, 0.3));\n",
              "      fill: #FFFFFF;\n",
              "    }\n",
              "  </style>\n",
              "\n",
              "      <script>\n",
              "        const buttonEl =\n",
              "          document.querySelector('#df-c8a36951-9ec9-4f9e-96f4-1a4399f433f1 button.colab-df-convert');\n",
              "        buttonEl.style.display =\n",
              "          google.colab.kernel.accessAllowed ? 'block' : 'none';\n",
              "\n",
              "        async function convertToInteractive(key) {\n",
              "          const element = document.querySelector('#df-c8a36951-9ec9-4f9e-96f4-1a4399f433f1');\n",
              "          const dataTable =\n",
              "            await google.colab.kernel.invokeFunction('convertToInteractive',\n",
              "                                                     [key], {});\n",
              "          if (!dataTable) return;\n",
              "\n",
              "          const docLinkHtml = 'Like what you see? Visit the ' +\n",
              "            '<a target=\"_blank\" href=https://colab.research.google.com/notebooks/data_table.ipynb>data table notebook</a>'\n",
              "            + ' to learn more about interactive tables.';\n",
              "          element.innerHTML = '';\n",
              "          dataTable['output_type'] = 'display_data';\n",
              "          await google.colab.output.renderOutput(dataTable, element);\n",
              "          const docLink = document.createElement('div');\n",
              "          docLink.innerHTML = docLinkHtml;\n",
              "          element.appendChild(docLink);\n",
              "        }\n",
              "      </script>\n",
              "    </div>\n",
              "  </div>\n",
              "  "
            ],
            "text/plain": [
              "   PRT_ID        AREA  INT_SQFT   DATE_SALE  DIST_MAINROAD  N_BEDROOM  \\\n",
              "0  P03210  Karapakkam      1004  04-05-2011            131        1.0   \n",
              "1  P09411  Anna Nagar      1986  19-12-2006             26        2.0   \n",
              "2  P01812       Adyar       909  04-02-2012             70        1.0   \n",
              "3  P05346   Velachery      1855  13-03-2010             14        3.0   \n",
              "4  P06210  Karapakkam      1226  05-10-2009             84        1.0   \n",
              "\n",
              "   N_BATHROOM  N_ROOM SALE_COND PARK_FACIL  ... UTILITY_AVAIL  STREET MZZONE  \\\n",
              "0         1.0       3  AbNormal        Yes  ...        AllPub   Paved      A   \n",
              "1         1.0       5  AbNormal         No  ...        AllPub  Gravel     RH   \n",
              "2         1.0       3  AbNormal        Yes  ...           ELO  Gravel     RL   \n",
              "3         2.0       5    Family         No  ...       NoSewr    Paved      I   \n",
              "4         1.0       3  AbNormal        Yes  ...        AllPub  Gravel      C   \n",
              "\n",
              "  QS_ROOMS QS_BATHROOM  QS_BEDROOM  QS_OVERALL  REG_FEE  COMMIS  SALES_PRICE  \n",
              "0      4.0         3.9         4.9       4.330   380000  144400      7600000  \n",
              "1      4.9         4.2         2.5       3.765   760122  304049     21717770  \n",
              "2      4.1         3.8         2.2       3.090   421094   92114     13159200  \n",
              "3      4.7         3.9         3.6       4.010   356321   77042      9630290  \n",
              "4      3.0         2.5         4.1       3.290   237000   74063      7406250  \n",
              "\n",
              "[5 rows x 22 columns]"
            ]
          },
          "metadata": {},
          "execution_count": 99
        }
      ]
    },
    {
      "cell_type": "markdown",
      "source": [
        "**Find the total number of rows and columns in dataset**"
      ],
      "metadata": {
        "id": "qwDJtDF9F3tn"
      }
    },
    {
      "cell_type": "code",
      "source": [
        "df.shape"
      ],
      "metadata": {
        "colab": {
          "base_uri": "https://localhost:8080/"
        },
        "id": "cfiUW9KlF-3K",
        "outputId": "593b94f8-7d03-483c-f8d1-f2716db41587"
      },
      "execution_count": null,
      "outputs": [
        {
          "output_type": "execute_result",
          "data": {
            "text/plain": [
              "(7109, 22)"
            ]
          },
          "metadata": {},
          "execution_count": 100
        }
      ]
    },
    {
      "cell_type": "markdown",
      "source": [
        "**Dataset contains 7109 rows and 22 columns**"
      ],
      "metadata": {
        "id": "cxePdNg8GHnL"
      }
    },
    {
      "cell_type": "markdown",
      "source": [
        "**Find the Statistical Measures of data**"
      ],
      "metadata": {
        "id": "SFIq1mW3GUoD"
      }
    },
    {
      "cell_type": "code",
      "source": [
        "df.describe()"
      ],
      "metadata": {
        "colab": {
          "base_uri": "https://localhost:8080/",
          "height": 364
        },
        "id": "svoCJMP4GZ4w",
        "outputId": "4a0e4db4-f778-4def-dc9d-e5cff135bcf0"
      },
      "execution_count": null,
      "outputs": [
        {
          "output_type": "execute_result",
          "data": {
            "text/html": [
              "\n",
              "  <div id=\"df-5cf36b75-e37f-457d-9444-2523b76dea08\">\n",
              "    <div class=\"colab-df-container\">\n",
              "      <div>\n",
              "<style scoped>\n",
              "    .dataframe tbody tr th:only-of-type {\n",
              "        vertical-align: middle;\n",
              "    }\n",
              "\n",
              "    .dataframe tbody tr th {\n",
              "        vertical-align: top;\n",
              "    }\n",
              "\n",
              "    .dataframe thead th {\n",
              "        text-align: right;\n",
              "    }\n",
              "</style>\n",
              "<table border=\"1\" class=\"dataframe\">\n",
              "  <thead>\n",
              "    <tr style=\"text-align: right;\">\n",
              "      <th></th>\n",
              "      <th>INT_SQFT</th>\n",
              "      <th>DIST_MAINROAD</th>\n",
              "      <th>N_BEDROOM</th>\n",
              "      <th>N_BATHROOM</th>\n",
              "      <th>N_ROOM</th>\n",
              "      <th>QS_ROOMS</th>\n",
              "      <th>QS_BATHROOM</th>\n",
              "      <th>QS_BEDROOM</th>\n",
              "      <th>QS_OVERALL</th>\n",
              "      <th>REG_FEE</th>\n",
              "      <th>COMMIS</th>\n",
              "      <th>SALES_PRICE</th>\n",
              "    </tr>\n",
              "  </thead>\n",
              "  <tbody>\n",
              "    <tr>\n",
              "      <th>count</th>\n",
              "      <td>7109.000000</td>\n",
              "      <td>7109.000000</td>\n",
              "      <td>7108.000000</td>\n",
              "      <td>7104.000000</td>\n",
              "      <td>7109.000000</td>\n",
              "      <td>7109.000000</td>\n",
              "      <td>7109.000000</td>\n",
              "      <td>7109.000000</td>\n",
              "      <td>7061.000000</td>\n",
              "      <td>7109.000000</td>\n",
              "      <td>7109.000000</td>\n",
              "      <td>7.109000e+03</td>\n",
              "    </tr>\n",
              "    <tr>\n",
              "      <th>mean</th>\n",
              "      <td>1382.073006</td>\n",
              "      <td>99.603179</td>\n",
              "      <td>1.637029</td>\n",
              "      <td>1.213260</td>\n",
              "      <td>3.688704</td>\n",
              "      <td>3.517471</td>\n",
              "      <td>3.507244</td>\n",
              "      <td>3.485300</td>\n",
              "      <td>3.503254</td>\n",
              "      <td>376938.330708</td>\n",
              "      <td>141005.726544</td>\n",
              "      <td>1.089491e+07</td>\n",
              "    </tr>\n",
              "    <tr>\n",
              "      <th>std</th>\n",
              "      <td>457.410902</td>\n",
              "      <td>57.403110</td>\n",
              "      <td>0.802902</td>\n",
              "      <td>0.409639</td>\n",
              "      <td>1.019099</td>\n",
              "      <td>0.891972</td>\n",
              "      <td>0.897834</td>\n",
              "      <td>0.887266</td>\n",
              "      <td>0.527223</td>\n",
              "      <td>143070.662010</td>\n",
              "      <td>78768.093718</td>\n",
              "      <td>3.768603e+06</td>\n",
              "    </tr>\n",
              "    <tr>\n",
              "      <th>min</th>\n",
              "      <td>500.000000</td>\n",
              "      <td>0.000000</td>\n",
              "      <td>1.000000</td>\n",
              "      <td>1.000000</td>\n",
              "      <td>2.000000</td>\n",
              "      <td>2.000000</td>\n",
              "      <td>2.000000</td>\n",
              "      <td>2.000000</td>\n",
              "      <td>2.000000</td>\n",
              "      <td>71177.000000</td>\n",
              "      <td>5055.000000</td>\n",
              "      <td>2.156875e+06</td>\n",
              "    </tr>\n",
              "    <tr>\n",
              "      <th>25%</th>\n",
              "      <td>993.000000</td>\n",
              "      <td>50.000000</td>\n",
              "      <td>1.000000</td>\n",
              "      <td>1.000000</td>\n",
              "      <td>3.000000</td>\n",
              "      <td>2.700000</td>\n",
              "      <td>2.700000</td>\n",
              "      <td>2.700000</td>\n",
              "      <td>3.130000</td>\n",
              "      <td>272406.000000</td>\n",
              "      <td>84219.000000</td>\n",
              "      <td>8.272100e+06</td>\n",
              "    </tr>\n",
              "    <tr>\n",
              "      <th>50%</th>\n",
              "      <td>1373.000000</td>\n",
              "      <td>99.000000</td>\n",
              "      <td>1.000000</td>\n",
              "      <td>1.000000</td>\n",
              "      <td>4.000000</td>\n",
              "      <td>3.500000</td>\n",
              "      <td>3.500000</td>\n",
              "      <td>3.500000</td>\n",
              "      <td>3.500000</td>\n",
              "      <td>349486.000000</td>\n",
              "      <td>127628.000000</td>\n",
              "      <td>1.033505e+07</td>\n",
              "    </tr>\n",
              "    <tr>\n",
              "      <th>75%</th>\n",
              "      <td>1744.000000</td>\n",
              "      <td>148.000000</td>\n",
              "      <td>2.000000</td>\n",
              "      <td>1.000000</td>\n",
              "      <td>4.000000</td>\n",
              "      <td>4.300000</td>\n",
              "      <td>4.300000</td>\n",
              "      <td>4.300000</td>\n",
              "      <td>3.890000</td>\n",
              "      <td>451562.000000</td>\n",
              "      <td>184506.000000</td>\n",
              "      <td>1.299390e+07</td>\n",
              "    </tr>\n",
              "    <tr>\n",
              "      <th>max</th>\n",
              "      <td>2500.000000</td>\n",
              "      <td>200.000000</td>\n",
              "      <td>4.000000</td>\n",
              "      <td>2.000000</td>\n",
              "      <td>6.000000</td>\n",
              "      <td>5.000000</td>\n",
              "      <td>5.000000</td>\n",
              "      <td>5.000000</td>\n",
              "      <td>4.970000</td>\n",
              "      <td>983922.000000</td>\n",
              "      <td>495405.000000</td>\n",
              "      <td>2.366734e+07</td>\n",
              "    </tr>\n",
              "  </tbody>\n",
              "</table>\n",
              "</div>\n",
              "      <button class=\"colab-df-convert\" onclick=\"convertToInteractive('df-5cf36b75-e37f-457d-9444-2523b76dea08')\"\n",
              "              title=\"Convert this dataframe to an interactive table.\"\n",
              "              style=\"display:none;\">\n",
              "        \n",
              "  <svg xmlns=\"http://www.w3.org/2000/svg\" height=\"24px\"viewBox=\"0 0 24 24\"\n",
              "       width=\"24px\">\n",
              "    <path d=\"M0 0h24v24H0V0z\" fill=\"none\"/>\n",
              "    <path d=\"M18.56 5.44l.94 2.06.94-2.06 2.06-.94-2.06-.94-.94-2.06-.94 2.06-2.06.94zm-11 1L8.5 8.5l.94-2.06 2.06-.94-2.06-.94L8.5 2.5l-.94 2.06-2.06.94zm10 10l.94 2.06.94-2.06 2.06-.94-2.06-.94-.94-2.06-.94 2.06-2.06.94z\"/><path d=\"M17.41 7.96l-1.37-1.37c-.4-.4-.92-.59-1.43-.59-.52 0-1.04.2-1.43.59L10.3 9.45l-7.72 7.72c-.78.78-.78 2.05 0 2.83L4 21.41c.39.39.9.59 1.41.59.51 0 1.02-.2 1.41-.59l7.78-7.78 2.81-2.81c.8-.78.8-2.07 0-2.86zM5.41 20L4 18.59l7.72-7.72 1.47 1.35L5.41 20z\"/>\n",
              "  </svg>\n",
              "      </button>\n",
              "      \n",
              "  <style>\n",
              "    .colab-df-container {\n",
              "      display:flex;\n",
              "      flex-wrap:wrap;\n",
              "      gap: 12px;\n",
              "    }\n",
              "\n",
              "    .colab-df-convert {\n",
              "      background-color: #E8F0FE;\n",
              "      border: none;\n",
              "      border-radius: 50%;\n",
              "      cursor: pointer;\n",
              "      display: none;\n",
              "      fill: #1967D2;\n",
              "      height: 32px;\n",
              "      padding: 0 0 0 0;\n",
              "      width: 32px;\n",
              "    }\n",
              "\n",
              "    .colab-df-convert:hover {\n",
              "      background-color: #E2EBFA;\n",
              "      box-shadow: 0px 1px 2px rgba(60, 64, 67, 0.3), 0px 1px 3px 1px rgba(60, 64, 67, 0.15);\n",
              "      fill: #174EA6;\n",
              "    }\n",
              "\n",
              "    [theme=dark] .colab-df-convert {\n",
              "      background-color: #3B4455;\n",
              "      fill: #D2E3FC;\n",
              "    }\n",
              "\n",
              "    [theme=dark] .colab-df-convert:hover {\n",
              "      background-color: #434B5C;\n",
              "      box-shadow: 0px 1px 3px 1px rgba(0, 0, 0, 0.15);\n",
              "      filter: drop-shadow(0px 1px 2px rgba(0, 0, 0, 0.3));\n",
              "      fill: #FFFFFF;\n",
              "    }\n",
              "  </style>\n",
              "\n",
              "      <script>\n",
              "        const buttonEl =\n",
              "          document.querySelector('#df-5cf36b75-e37f-457d-9444-2523b76dea08 button.colab-df-convert');\n",
              "        buttonEl.style.display =\n",
              "          google.colab.kernel.accessAllowed ? 'block' : 'none';\n",
              "\n",
              "        async function convertToInteractive(key) {\n",
              "          const element = document.querySelector('#df-5cf36b75-e37f-457d-9444-2523b76dea08');\n",
              "          const dataTable =\n",
              "            await google.colab.kernel.invokeFunction('convertToInteractive',\n",
              "                                                     [key], {});\n",
              "          if (!dataTable) return;\n",
              "\n",
              "          const docLinkHtml = 'Like what you see? Visit the ' +\n",
              "            '<a target=\"_blank\" href=https://colab.research.google.com/notebooks/data_table.ipynb>data table notebook</a>'\n",
              "            + ' to learn more about interactive tables.';\n",
              "          element.innerHTML = '';\n",
              "          dataTable['output_type'] = 'display_data';\n",
              "          await google.colab.output.renderOutput(dataTable, element);\n",
              "          const docLink = document.createElement('div');\n",
              "          docLink.innerHTML = docLinkHtml;\n",
              "          element.appendChild(docLink);\n",
              "        }\n",
              "      </script>\n",
              "    </div>\n",
              "  </div>\n",
              "  "
            ],
            "text/plain": [
              "          INT_SQFT  DIST_MAINROAD    N_BEDROOM   N_BATHROOM       N_ROOM  \\\n",
              "count  7109.000000    7109.000000  7108.000000  7104.000000  7109.000000   \n",
              "mean   1382.073006      99.603179     1.637029     1.213260     3.688704   \n",
              "std     457.410902      57.403110     0.802902     0.409639     1.019099   \n",
              "min     500.000000       0.000000     1.000000     1.000000     2.000000   \n",
              "25%     993.000000      50.000000     1.000000     1.000000     3.000000   \n",
              "50%    1373.000000      99.000000     1.000000     1.000000     4.000000   \n",
              "75%    1744.000000     148.000000     2.000000     1.000000     4.000000   \n",
              "max    2500.000000     200.000000     4.000000     2.000000     6.000000   \n",
              "\n",
              "          QS_ROOMS  QS_BATHROOM   QS_BEDROOM   QS_OVERALL        REG_FEE  \\\n",
              "count  7109.000000  7109.000000  7109.000000  7061.000000    7109.000000   \n",
              "mean      3.517471     3.507244     3.485300     3.503254  376938.330708   \n",
              "std       0.891972     0.897834     0.887266     0.527223  143070.662010   \n",
              "min       2.000000     2.000000     2.000000     2.000000   71177.000000   \n",
              "25%       2.700000     2.700000     2.700000     3.130000  272406.000000   \n",
              "50%       3.500000     3.500000     3.500000     3.500000  349486.000000   \n",
              "75%       4.300000     4.300000     4.300000     3.890000  451562.000000   \n",
              "max       5.000000     5.000000     5.000000     4.970000  983922.000000   \n",
              "\n",
              "              COMMIS   SALES_PRICE  \n",
              "count    7109.000000  7.109000e+03  \n",
              "mean   141005.726544  1.089491e+07  \n",
              "std     78768.093718  3.768603e+06  \n",
              "min      5055.000000  2.156875e+06  \n",
              "25%     84219.000000  8.272100e+06  \n",
              "50%    127628.000000  1.033505e+07  \n",
              "75%    184506.000000  1.299390e+07  \n",
              "max    495405.000000  2.366734e+07  "
            ]
          },
          "metadata": {},
          "execution_count": 101
        }
      ]
    },
    {
      "cell_type": "code",
      "source": [
        "df.info()"
      ],
      "metadata": {
        "colab": {
          "base_uri": "https://localhost:8080/"
        },
        "id": "0DlrX6xo0985",
        "outputId": "0312f984-6af3-4ba8-b89c-73913a2346a7"
      },
      "execution_count": null,
      "outputs": [
        {
          "output_type": "stream",
          "name": "stdout",
          "text": [
            "<class 'pandas.core.frame.DataFrame'>\n",
            "RangeIndex: 7109 entries, 0 to 7108\n",
            "Data columns (total 22 columns):\n",
            " #   Column         Non-Null Count  Dtype  \n",
            "---  ------         --------------  -----  \n",
            " 0   PRT_ID         7109 non-null   object \n",
            " 1   AREA           7109 non-null   object \n",
            " 2   INT_SQFT       7109 non-null   int64  \n",
            " 3   DATE_SALE      7109 non-null   object \n",
            " 4   DIST_MAINROAD  7109 non-null   int64  \n",
            " 5   N_BEDROOM      7108 non-null   float64\n",
            " 6   N_BATHROOM     7104 non-null   float64\n",
            " 7   N_ROOM         7109 non-null   int64  \n",
            " 8   SALE_COND      7109 non-null   object \n",
            " 9   PARK_FACIL     7109 non-null   object \n",
            " 10  DATE_BUILD     7109 non-null   object \n",
            " 11  BUILDTYPE      7109 non-null   object \n",
            " 12  UTILITY_AVAIL  7109 non-null   object \n",
            " 13  STREET         7109 non-null   object \n",
            " 14  MZZONE         7109 non-null   object \n",
            " 15  QS_ROOMS       7109 non-null   float64\n",
            " 16  QS_BATHROOM    7109 non-null   float64\n",
            " 17  QS_BEDROOM     7109 non-null   float64\n",
            " 18  QS_OVERALL     7061 non-null   float64\n",
            " 19  REG_FEE        7109 non-null   int64  \n",
            " 20  COMMIS         7109 non-null   int64  \n",
            " 21  SALES_PRICE    7109 non-null   int64  \n",
            "dtypes: float64(6), int64(6), object(10)\n",
            "memory usage: 1.2+ MB\n"
          ]
        }
      ]
    },
    {
      "cell_type": "markdown",
      "source": [
        "**observations:**\n",
        "\n",
        "1.N_BEDROOM,N_BATHROOM features are integer value,we need to convert as this   feature as integer datatype\n",
        "\n",
        "2.DATE_SALE,DATE_BUILD features are datetime value,we need to convert as this feature as datetime datatype format\n",
        "\n",
        "3.PRT_ID,REG_FEE,COMMIS features are not required for predicting house price,we need to drop those features"
      ],
      "metadata": {
        "id": "2jen970X1eu4"
      }
    },
    {
      "cell_type": "markdown",
      "source": [
        "**Checking the duplicate values of given dataset**"
      ],
      "metadata": {
        "id": "wwzCpJLCGi30"
      }
    },
    {
      "cell_type": "code",
      "source": [
        "duplicates=df.duplicated().sum()\n",
        "print(duplicates)"
      ],
      "metadata": {
        "colab": {
          "base_uri": "https://localhost:8080/"
        },
        "id": "LCRZ0mtCGpWT",
        "outputId": "c8527ac0-abf9-4a0d-a9d3-2eb7d3030d26"
      },
      "execution_count": null,
      "outputs": [
        {
          "output_type": "stream",
          "name": "stdout",
          "text": [
            "0\n"
          ]
        }
      ]
    },
    {
      "cell_type": "markdown",
      "source": [
        "**No Duplicate Values Present in given dataset**"
      ],
      "metadata": {
        "id": "ICCXzIv5G0wI"
      }
    },
    {
      "cell_type": "markdown",
      "source": [
        "**PRT_ID,REG_FEE,COMMIS columns does not create any impact on salesprice prediction,so drop the features**"
      ],
      "metadata": {
        "id": "hskVLufgIEoo"
      }
    },
    {
      "cell_type": "code",
      "source": [
        "df.drop([\"PRT_ID\",\"REG_FEE\",\"COMMIS\",\"QS_ROOMS\",\"QS_BATHROOM\",\"QS_BEDROOM\",\"QS_OVERALL\"],axis=1,inplace=True)"
      ],
      "metadata": {
        "id": "YwxZ_DDOIqOd"
      },
      "execution_count": null,
      "outputs": []
    },
    {
      "cell_type": "code",
      "source": [
        "df.shape"
      ],
      "metadata": {
        "colab": {
          "base_uri": "https://localhost:8080/"
        },
        "id": "jywPoJVqNCKK",
        "outputId": "8b929806-493c-4922-dacc-b29861fe8c8a"
      },
      "execution_count": null,
      "outputs": [
        {
          "output_type": "execute_result",
          "data": {
            "text/plain": [
              "(7109, 15)"
            ]
          },
          "metadata": {},
          "execution_count": 105
        }
      ]
    },
    {
      "cell_type": "markdown",
      "source": [
        "**Print the overall information about the data**"
      ],
      "metadata": {
        "id": "cBdtPAWENRTo"
      }
    },
    {
      "cell_type": "code",
      "source": [
        "df.info()"
      ],
      "metadata": {
        "colab": {
          "base_uri": "https://localhost:8080/"
        },
        "id": "r7nDwSx4NWtI",
        "outputId": "8fd52709-33fa-4f9b-a57a-f2a8c727cfa5"
      },
      "execution_count": null,
      "outputs": [
        {
          "output_type": "stream",
          "name": "stdout",
          "text": [
            "<class 'pandas.core.frame.DataFrame'>\n",
            "RangeIndex: 7109 entries, 0 to 7108\n",
            "Data columns (total 15 columns):\n",
            " #   Column         Non-Null Count  Dtype  \n",
            "---  ------         --------------  -----  \n",
            " 0   AREA           7109 non-null   object \n",
            " 1   INT_SQFT       7109 non-null   int64  \n",
            " 2   DATE_SALE      7109 non-null   object \n",
            " 3   DIST_MAINROAD  7109 non-null   int64  \n",
            " 4   N_BEDROOM      7108 non-null   float64\n",
            " 5   N_BATHROOM     7104 non-null   float64\n",
            " 6   N_ROOM         7109 non-null   int64  \n",
            " 7   SALE_COND      7109 non-null   object \n",
            " 8   PARK_FACIL     7109 non-null   object \n",
            " 9   DATE_BUILD     7109 non-null   object \n",
            " 10  BUILDTYPE      7109 non-null   object \n",
            " 11  UTILITY_AVAIL  7109 non-null   object \n",
            " 12  STREET         7109 non-null   object \n",
            " 13  MZZONE         7109 non-null   object \n",
            " 14  SALES_PRICE    7109 non-null   int64  \n",
            "dtypes: float64(2), int64(4), object(9)\n",
            "memory usage: 833.2+ KB\n"
          ]
        }
      ]
    },
    {
      "cell_type": "markdown",
      "source": [
        "**Convert both DATESALE and DATEBUILD columns datatype into datetime object**"
      ],
      "metadata": {
        "id": "L5HUCGlHONQ4"
      }
    },
    {
      "cell_type": "code",
      "source": [
        "df[['DATE_SALE','DATE_BUILD']]=df[['DATE_SALE','DATE_BUILD']].apply(pd.to_datetime)"
      ],
      "metadata": {
        "id": "_1wmdt83Oe53"
      },
      "execution_count": null,
      "outputs": []
    },
    {
      "cell_type": "code",
      "source": [
        "df.info()"
      ],
      "metadata": {
        "colab": {
          "base_uri": "https://localhost:8080/"
        },
        "id": "SvBt_8WdOw2G",
        "outputId": "ec0b8875-35b5-41ba-eb55-b0bb02584a35"
      },
      "execution_count": null,
      "outputs": [
        {
          "output_type": "stream",
          "name": "stdout",
          "text": [
            "<class 'pandas.core.frame.DataFrame'>\n",
            "RangeIndex: 7109 entries, 0 to 7108\n",
            "Data columns (total 15 columns):\n",
            " #   Column         Non-Null Count  Dtype         \n",
            "---  ------         --------------  -----         \n",
            " 0   AREA           7109 non-null   object        \n",
            " 1   INT_SQFT       7109 non-null   int64         \n",
            " 2   DATE_SALE      7109 non-null   datetime64[ns]\n",
            " 3   DIST_MAINROAD  7109 non-null   int64         \n",
            " 4   N_BEDROOM      7108 non-null   float64       \n",
            " 5   N_BATHROOM     7104 non-null   float64       \n",
            " 6   N_ROOM         7109 non-null   int64         \n",
            " 7   SALE_COND      7109 non-null   object        \n",
            " 8   PARK_FACIL     7109 non-null   object        \n",
            " 9   DATE_BUILD     7109 non-null   datetime64[ns]\n",
            " 10  BUILDTYPE      7109 non-null   object        \n",
            " 11  UTILITY_AVAIL  7109 non-null   object        \n",
            " 12  STREET         7109 non-null   object        \n",
            " 13  MZZONE         7109 non-null   object        \n",
            " 14  SALES_PRICE    7109 non-null   int64         \n",
            "dtypes: datetime64[ns](2), float64(2), int64(4), object(7)\n",
            "memory usage: 833.2+ KB\n"
          ]
        }
      ]
    },
    {
      "cell_type": "code",
      "source": [
        "df.head()"
      ],
      "metadata": {
        "colab": {
          "base_uri": "https://localhost:8080/",
          "height": 357
        },
        "id": "2-5qJqOIO18a",
        "outputId": "1c127e50-cfad-4e76-b2a9-803f57ea10ed"
      },
      "execution_count": null,
      "outputs": [
        {
          "output_type": "execute_result",
          "data": {
            "text/html": [
              "\n",
              "  <div id=\"df-838fdb9e-04c4-496f-9566-27febd5b40f5\">\n",
              "    <div class=\"colab-df-container\">\n",
              "      <div>\n",
              "<style scoped>\n",
              "    .dataframe tbody tr th:only-of-type {\n",
              "        vertical-align: middle;\n",
              "    }\n",
              "\n",
              "    .dataframe tbody tr th {\n",
              "        vertical-align: top;\n",
              "    }\n",
              "\n",
              "    .dataframe thead th {\n",
              "        text-align: right;\n",
              "    }\n",
              "</style>\n",
              "<table border=\"1\" class=\"dataframe\">\n",
              "  <thead>\n",
              "    <tr style=\"text-align: right;\">\n",
              "      <th></th>\n",
              "      <th>AREA</th>\n",
              "      <th>INT_SQFT</th>\n",
              "      <th>DATE_SALE</th>\n",
              "      <th>DIST_MAINROAD</th>\n",
              "      <th>N_BEDROOM</th>\n",
              "      <th>N_BATHROOM</th>\n",
              "      <th>N_ROOM</th>\n",
              "      <th>SALE_COND</th>\n",
              "      <th>PARK_FACIL</th>\n",
              "      <th>DATE_BUILD</th>\n",
              "      <th>BUILDTYPE</th>\n",
              "      <th>UTILITY_AVAIL</th>\n",
              "      <th>STREET</th>\n",
              "      <th>MZZONE</th>\n",
              "      <th>SALES_PRICE</th>\n",
              "    </tr>\n",
              "  </thead>\n",
              "  <tbody>\n",
              "    <tr>\n",
              "      <th>0</th>\n",
              "      <td>Karapakkam</td>\n",
              "      <td>1004</td>\n",
              "      <td>2011-04-05</td>\n",
              "      <td>131</td>\n",
              "      <td>1.0</td>\n",
              "      <td>1.0</td>\n",
              "      <td>3</td>\n",
              "      <td>AbNormal</td>\n",
              "      <td>Yes</td>\n",
              "      <td>1967-05-15</td>\n",
              "      <td>Commercial</td>\n",
              "      <td>AllPub</td>\n",
              "      <td>Paved</td>\n",
              "      <td>A</td>\n",
              "      <td>7600000</td>\n",
              "    </tr>\n",
              "    <tr>\n",
              "      <th>1</th>\n",
              "      <td>Anna Nagar</td>\n",
              "      <td>1986</td>\n",
              "      <td>2006-12-19</td>\n",
              "      <td>26</td>\n",
              "      <td>2.0</td>\n",
              "      <td>1.0</td>\n",
              "      <td>5</td>\n",
              "      <td>AbNormal</td>\n",
              "      <td>No</td>\n",
              "      <td>1995-12-22</td>\n",
              "      <td>Commercial</td>\n",
              "      <td>AllPub</td>\n",
              "      <td>Gravel</td>\n",
              "      <td>RH</td>\n",
              "      <td>21717770</td>\n",
              "    </tr>\n",
              "    <tr>\n",
              "      <th>2</th>\n",
              "      <td>Adyar</td>\n",
              "      <td>909</td>\n",
              "      <td>2012-04-02</td>\n",
              "      <td>70</td>\n",
              "      <td>1.0</td>\n",
              "      <td>1.0</td>\n",
              "      <td>3</td>\n",
              "      <td>AbNormal</td>\n",
              "      <td>Yes</td>\n",
              "      <td>1992-09-02</td>\n",
              "      <td>Commercial</td>\n",
              "      <td>ELO</td>\n",
              "      <td>Gravel</td>\n",
              "      <td>RL</td>\n",
              "      <td>13159200</td>\n",
              "    </tr>\n",
              "    <tr>\n",
              "      <th>3</th>\n",
              "      <td>Velachery</td>\n",
              "      <td>1855</td>\n",
              "      <td>2010-03-13</td>\n",
              "      <td>14</td>\n",
              "      <td>3.0</td>\n",
              "      <td>2.0</td>\n",
              "      <td>5</td>\n",
              "      <td>Family</td>\n",
              "      <td>No</td>\n",
              "      <td>1988-03-18</td>\n",
              "      <td>Others</td>\n",
              "      <td>NoSewr</td>\n",
              "      <td>Paved</td>\n",
              "      <td>I</td>\n",
              "      <td>9630290</td>\n",
              "    </tr>\n",
              "    <tr>\n",
              "      <th>4</th>\n",
              "      <td>Karapakkam</td>\n",
              "      <td>1226</td>\n",
              "      <td>2009-05-10</td>\n",
              "      <td>84</td>\n",
              "      <td>1.0</td>\n",
              "      <td>1.0</td>\n",
              "      <td>3</td>\n",
              "      <td>AbNormal</td>\n",
              "      <td>Yes</td>\n",
              "      <td>1979-10-13</td>\n",
              "      <td>Others</td>\n",
              "      <td>AllPub</td>\n",
              "      <td>Gravel</td>\n",
              "      <td>C</td>\n",
              "      <td>7406250</td>\n",
              "    </tr>\n",
              "  </tbody>\n",
              "</table>\n",
              "</div>\n",
              "      <button class=\"colab-df-convert\" onclick=\"convertToInteractive('df-838fdb9e-04c4-496f-9566-27febd5b40f5')\"\n",
              "              title=\"Convert this dataframe to an interactive table.\"\n",
              "              style=\"display:none;\">\n",
              "        \n",
              "  <svg xmlns=\"http://www.w3.org/2000/svg\" height=\"24px\"viewBox=\"0 0 24 24\"\n",
              "       width=\"24px\">\n",
              "    <path d=\"M0 0h24v24H0V0z\" fill=\"none\"/>\n",
              "    <path d=\"M18.56 5.44l.94 2.06.94-2.06 2.06-.94-2.06-.94-.94-2.06-.94 2.06-2.06.94zm-11 1L8.5 8.5l.94-2.06 2.06-.94-2.06-.94L8.5 2.5l-.94 2.06-2.06.94zm10 10l.94 2.06.94-2.06 2.06-.94-2.06-.94-.94-2.06-.94 2.06-2.06.94z\"/><path d=\"M17.41 7.96l-1.37-1.37c-.4-.4-.92-.59-1.43-.59-.52 0-1.04.2-1.43.59L10.3 9.45l-7.72 7.72c-.78.78-.78 2.05 0 2.83L4 21.41c.39.39.9.59 1.41.59.51 0 1.02-.2 1.41-.59l7.78-7.78 2.81-2.81c.8-.78.8-2.07 0-2.86zM5.41 20L4 18.59l7.72-7.72 1.47 1.35L5.41 20z\"/>\n",
              "  </svg>\n",
              "      </button>\n",
              "      \n",
              "  <style>\n",
              "    .colab-df-container {\n",
              "      display:flex;\n",
              "      flex-wrap:wrap;\n",
              "      gap: 12px;\n",
              "    }\n",
              "\n",
              "    .colab-df-convert {\n",
              "      background-color: #E8F0FE;\n",
              "      border: none;\n",
              "      border-radius: 50%;\n",
              "      cursor: pointer;\n",
              "      display: none;\n",
              "      fill: #1967D2;\n",
              "      height: 32px;\n",
              "      padding: 0 0 0 0;\n",
              "      width: 32px;\n",
              "    }\n",
              "\n",
              "    .colab-df-convert:hover {\n",
              "      background-color: #E2EBFA;\n",
              "      box-shadow: 0px 1px 2px rgba(60, 64, 67, 0.3), 0px 1px 3px 1px rgba(60, 64, 67, 0.15);\n",
              "      fill: #174EA6;\n",
              "    }\n",
              "\n",
              "    [theme=dark] .colab-df-convert {\n",
              "      background-color: #3B4455;\n",
              "      fill: #D2E3FC;\n",
              "    }\n",
              "\n",
              "    [theme=dark] .colab-df-convert:hover {\n",
              "      background-color: #434B5C;\n",
              "      box-shadow: 0px 1px 3px 1px rgba(0, 0, 0, 0.15);\n",
              "      filter: drop-shadow(0px 1px 2px rgba(0, 0, 0, 0.3));\n",
              "      fill: #FFFFFF;\n",
              "    }\n",
              "  </style>\n",
              "\n",
              "      <script>\n",
              "        const buttonEl =\n",
              "          document.querySelector('#df-838fdb9e-04c4-496f-9566-27febd5b40f5 button.colab-df-convert');\n",
              "        buttonEl.style.display =\n",
              "          google.colab.kernel.accessAllowed ? 'block' : 'none';\n",
              "\n",
              "        async function convertToInteractive(key) {\n",
              "          const element = document.querySelector('#df-838fdb9e-04c4-496f-9566-27febd5b40f5');\n",
              "          const dataTable =\n",
              "            await google.colab.kernel.invokeFunction('convertToInteractive',\n",
              "                                                     [key], {});\n",
              "          if (!dataTable) return;\n",
              "\n",
              "          const docLinkHtml = 'Like what you see? Visit the ' +\n",
              "            '<a target=\"_blank\" href=https://colab.research.google.com/notebooks/data_table.ipynb>data table notebook</a>'\n",
              "            + ' to learn more about interactive tables.';\n",
              "          element.innerHTML = '';\n",
              "          dataTable['output_type'] = 'display_data';\n",
              "          await google.colab.output.renderOutput(dataTable, element);\n",
              "          const docLink = document.createElement('div');\n",
              "          docLink.innerHTML = docLinkHtml;\n",
              "          element.appendChild(docLink);\n",
              "        }\n",
              "      </script>\n",
              "    </div>\n",
              "  </div>\n",
              "  "
            ],
            "text/plain": [
              "         AREA  INT_SQFT  DATE_SALE  DIST_MAINROAD  N_BEDROOM  N_BATHROOM  \\\n",
              "0  Karapakkam      1004 2011-04-05            131        1.0         1.0   \n",
              "1  Anna Nagar      1986 2006-12-19             26        2.0         1.0   \n",
              "2       Adyar       909 2012-04-02             70        1.0         1.0   \n",
              "3   Velachery      1855 2010-03-13             14        3.0         2.0   \n",
              "4  Karapakkam      1226 2009-05-10             84        1.0         1.0   \n",
              "\n",
              "   N_ROOM SALE_COND PARK_FACIL DATE_BUILD   BUILDTYPE UTILITY_AVAIL  STREET  \\\n",
              "0       3  AbNormal        Yes 1967-05-15  Commercial        AllPub   Paved   \n",
              "1       5  AbNormal         No 1995-12-22  Commercial        AllPub  Gravel   \n",
              "2       3  AbNormal        Yes 1992-09-02  Commercial           ELO  Gravel   \n",
              "3       5    Family         No 1988-03-18      Others       NoSewr    Paved   \n",
              "4       3  AbNormal        Yes 1979-10-13      Others        AllPub  Gravel   \n",
              "\n",
              "  MZZONE  SALES_PRICE  \n",
              "0      A      7600000  \n",
              "1     RH     21717770  \n",
              "2     RL     13159200  \n",
              "3      I      9630290  \n",
              "4      C      7406250  "
            ]
          },
          "metadata": {},
          "execution_count": 109
        }
      ]
    },
    {
      "cell_type": "markdown",
      "source": [
        "**Area Feature column spelling is different for same Area Name,we need to replace correct Spelling Name on AREA Features Column**"
      ],
      "metadata": {
        "id": "BaFIVZSzPrUC"
      }
    },
    {
      "cell_type": "code",
      "source": [
        "df.replace({\"AREA\":{'Adyr':'Adyar','Ana Nagar':'Anna Nagar','Ann Nagar':'Anna Nagar','Chrmpet':'Chrompet','Chrompt':'Chrompet','Chormpet':'Chrompet','Karapakam':'Karapakkam','KKNagar':'KK Nagar','TNagar':'T Nagar','Velchery':'Velachery'}},inplace=True)"
      ],
      "metadata": {
        "id": "rYxN_uIQPyKo"
      },
      "execution_count": null,
      "outputs": []
    },
    {
      "cell_type": "markdown",
      "source": [
        "**SALE_COND Feature column spelling is different for same SALE_COND Name,we need to replace correct Spelling Name on SALE_COND Features Column**"
      ],
      "metadata": {
        "id": "m59gJsSWTfoU"
      }
    },
    {
      "cell_type": "code",
      "source": [
        "df.replace({\"SALE_COND\":{'Ab Normal':'AbNormal','AdjLand':'Adj Land','Partiall':'Partial','PartiaLl':'Partial'}},inplace=True)"
      ],
      "metadata": {
        "id": "ISQRKnC1TlHG"
      },
      "execution_count": null,
      "outputs": []
    },
    {
      "cell_type": "markdown",
      "source": [
        "**PARK_FACIL Feature column spelling is different for same PARK_FACIL Name,we need to replace correct Spelling Name on PARK_FACIL Features Column**"
      ],
      "metadata": {
        "id": "xDTLKTB0UMvI"
      }
    },
    {
      "cell_type": "code",
      "source": [
        "df.replace({\"PARK_FACIL\":{'Noo':'No'}},inplace=True)"
      ],
      "metadata": {
        "id": "EPqOSj5-UTm1"
      },
      "execution_count": null,
      "outputs": []
    },
    {
      "cell_type": "markdown",
      "source": [
        "**BUILD_TYPE Feature column spelling is different for same BUILD_TYPE Name,we need to replace correct Spelling Name on BUILD_TYPE Features Column**"
      ],
      "metadata": {
        "id": "Da7lFQKuVCU2"
      }
    },
    {
      "cell_type": "code",
      "source": [
        "df.replace({\"BUILDTYPE\":{'Comercial':'Commercial','Other':'Others'}},inplace=True)"
      ],
      "metadata": {
        "id": "lHHe6LS8VJW7"
      },
      "execution_count": null,
      "outputs": []
    },
    {
      "cell_type": "markdown",
      "source": [
        "**UTILITY_AVAIL Feature column spelling is different for same UTILITY_AVAIL Name,we need to replace correct Spelling Name on UTILITY_AVAIL Features Column**"
      ],
      "metadata": {
        "id": "7roO_oAgViPJ"
      }
    },
    {
      "cell_type": "code",
      "source": [
        "df.replace({\"UTILITY_AVAIL\":{'AllPub':'All Pub','NoSewr':'NoSeWa','NoSewr ':'NoSeWa'}},inplace=True)"
      ],
      "metadata": {
        "id": "GetV2lbCVoPr"
      },
      "execution_count": null,
      "outputs": []
    },
    {
      "cell_type": "markdown",
      "source": [
        "**STREET Feature column spelling is different for same STREET Name,we need to replace correct Spelling Name on STREET Features Column**"
      ],
      "metadata": {
        "id": "R5gXEcYjWK1G"
      }
    },
    {
      "cell_type": "code",
      "source": [
        "df.replace({\"STREET\":{'NoAccess':'No Access','Pavd':'Paved'}},inplace=True)"
      ],
      "metadata": {
        "id": "K5_HAwMpWPtr"
      },
      "execution_count": null,
      "outputs": []
    },
    {
      "cell_type": "markdown",
      "source": [
        "**Checking for Null Values of each and every column**"
      ],
      "metadata": {
        "id": "M0-MnP7FXeOn"
      }
    },
    {
      "cell_type": "code",
      "source": [
        "df.isna().sum()"
      ],
      "metadata": {
        "colab": {
          "base_uri": "https://localhost:8080/"
        },
        "id": "-OqXM2FVXkwk",
        "outputId": "48c27f52-870f-4e2e-d9bb-081c0a7d45d2"
      },
      "execution_count": null,
      "outputs": [
        {
          "output_type": "execute_result",
          "data": {
            "text/plain": [
              "AREA             0\n",
              "INT_SQFT         0\n",
              "DATE_SALE        0\n",
              "DIST_MAINROAD    0\n",
              "N_BEDROOM        1\n",
              "N_BATHROOM       5\n",
              "N_ROOM           0\n",
              "SALE_COND        0\n",
              "PARK_FACIL       0\n",
              "DATE_BUILD       0\n",
              "BUILDTYPE        0\n",
              "UTILITY_AVAIL    0\n",
              "STREET           0\n",
              "MZZONE           0\n",
              "SALES_PRICE      0\n",
              "dtype: int64"
            ]
          },
          "metadata": {},
          "execution_count": 116
        }
      ]
    },
    {
      "cell_type": "markdown",
      "source": [
        "Replacing Null Values:\n",
        "**N_BEDROOM,N_BATHROOM are discrete feature,so replacing with mode**"
      ],
      "metadata": {
        "id": "3oXkx_m0YHoH"
      }
    },
    {
      "cell_type": "code",
      "source": [
        "df[\"N_BEDROOM\"].fillna(df[\"N_BEDROOM\"].mode()[0],inplace=True)\n",
        "df[\"N_BATHROOM\"].fillna(df[\"N_BATHROOM\"].mode()[0],inplace=True)"
      ],
      "metadata": {
        "id": "Hfa6BykhYZ34"
      },
      "execution_count": null,
      "outputs": []
    },
    {
      "cell_type": "markdown",
      "source": [
        "Checking Null Values one more time"
      ],
      "metadata": {
        "id": "GAfM0-RvZgK9"
      }
    },
    {
      "cell_type": "code",
      "source": [
        "df.isna().sum()"
      ],
      "metadata": {
        "colab": {
          "base_uri": "https://localhost:8080/"
        },
        "id": "6ODx9n5BZkaf",
        "outputId": "2fb27aae-f657-4171-8232-2952d656f5c0"
      },
      "execution_count": null,
      "outputs": [
        {
          "output_type": "execute_result",
          "data": {
            "text/plain": [
              "AREA             0\n",
              "INT_SQFT         0\n",
              "DATE_SALE        0\n",
              "DIST_MAINROAD    0\n",
              "N_BEDROOM        0\n",
              "N_BATHROOM       0\n",
              "N_ROOM           0\n",
              "SALE_COND        0\n",
              "PARK_FACIL       0\n",
              "DATE_BUILD       0\n",
              "BUILDTYPE        0\n",
              "UTILITY_AVAIL    0\n",
              "STREET           0\n",
              "MZZONE           0\n",
              "SALES_PRICE      0\n",
              "dtype: int64"
            ]
          },
          "metadata": {},
          "execution_count": 118
        }
      ]
    },
    {
      "cell_type": "markdown",
      "source": [
        "**create AGE_OF_BUILD column to subract DATE_SALE and DATE_BUILD**"
      ],
      "metadata": {
        "id": "PI-qPqWsNwWV"
      }
    },
    {
      "cell_type": "code",
      "source": [
        "df['AGE_OF_BUILD']=(df.DATE_SALE-df.DATE_BUILD)\n",
        "df['AGE_OF_BUILD']=df['AGE_OF_BUILD']/np.timedelta64(1,'Y')\n",
        "df['AGE_OF_BUILD']=np.round(df['AGE_OF_BUILD'])"
      ],
      "metadata": {
        "id": "Y8vf3G1UOGKT"
      },
      "execution_count": null,
      "outputs": []
    },
    {
      "cell_type": "markdown",
      "source": [
        "**Drop DATE_SALE and DATE_BUILD column,since these column used for computing age of building**"
      ],
      "metadata": {
        "id": "SUAow4JROpKe"
      }
    },
    {
      "cell_type": "code",
      "source": [
        "df.drop(['DATE_SALE','DATE_BUILD'],axis=1,inplace=True)"
      ],
      "metadata": {
        "id": "QGO48alzQydX"
      },
      "execution_count": null,
      "outputs": []
    },
    {
      "cell_type": "markdown",
      "source": [
        "**EXploratory Data Analysis:**"
      ],
      "metadata": {
        "id": "xJVBx2nUSPTn"
      }
    },
    {
      "cell_type": "markdown",
      "source": [
        "**Data Visualization**"
      ],
      "metadata": {
        "id": "E2jvkix1SVmq"
      }
    },
    {
      "cell_type": "code",
      "source": [
        "plt.figure(figsize=(15,7))\n",
        "ax=sns.barplot(x=df.AREA,y=df.SALES_PRICE)\n",
        "plt.title(\"AREA Vs SALES_PRICE\")"
      ],
      "metadata": {
        "colab": {
          "base_uri": "https://localhost:8080/",
          "height": 475
        },
        "id": "wI57-uSRScfi",
        "outputId": "cf8fd9fb-6de6-4ae1-e857-bde3846116c2"
      },
      "execution_count": null,
      "outputs": [
        {
          "output_type": "execute_result",
          "data": {
            "text/plain": [
              "Text(0.5, 1.0, 'AREA Vs SALES_PRICE')"
            ]
          },
          "metadata": {},
          "execution_count": 121
        },
        {
          "output_type": "display_data",
          "data": {
            "image/png": "[encoded data removed]",
            "text/plain": [
              "<Figure size 1080x504 with 1 Axes>"
            ]
          },
          "metadata": {
            "needs_background": "light"
          }
        }
      ]
    },
    {
      "cell_type": "markdown",
      "source": [
        "**observations:**\n",
        "\n",
        "1.There is a relationship between AREA and SALES_PRICE\n",
        "\n",
        "2.There is a Linear Relationship between AREA and SALES_PRICE\n"
      ],
      "metadata": {
        "id": "Oq1dfqhoHV09"
      }
    },
    {
      "cell_type": "markdown",
      "source": [
        "**Label encoding for AREA Features based on the distribution level**"
      ],
      "metadata": {
        "id": "BGGthQQbHwI3"
      }
    },
    {
      "cell_type": "code",
      "source": [
        "df.replace({\"AREA\":{'Karapakkam':0,'Adyar':1,'Chrompet':2,'Velachery':3,'KK Nagar':4,'Anna Nagar':5,'T Nagar':6}},inplace=True)"
      ],
      "metadata": {
        "id": "xb6T7jcvH6wx"
      },
      "execution_count": null,
      "outputs": []
    },
    {
      "cell_type": "markdown",
      "source": [
        "**Data Visualization Plot:SALES_COND Vs SALESPRICE**"
      ],
      "metadata": {
        "id": "eJ-r6kHpLH2l"
      }
    },
    {
      "cell_type": "code",
      "source": [
        "plt.figure(figsize=(15,7))\n",
        "sns.barplot(x=df.SALE_COND,y=df.SALES_PRICE)\n",
        "plt.title(\"SALE_COND Vs SALES_PRICE\")"
      ],
      "metadata": {
        "id": "DrqgtEBnLROx",
        "colab": {
          "base_uri": "https://localhost:8080/",
          "height": 476
        },
        "outputId": "def899b2-19b6-48ec-869d-219321136bd2"
      },
      "execution_count": null,
      "outputs": [
        {
          "output_type": "execute_result",
          "data": {
            "text/plain": [
              "Text(0.5, 1.0, 'SALE_COND Vs SALES_PRICE')"
            ]
          },
          "metadata": {},
          "execution_count": 123
        },
        {
          "output_type": "display_data",
          "data": {
            "image/png": "[encoded data removed]",
            "text/plain": [
              "<Figure size 1080x504 with 1 Axes>"
            ]
          },
          "metadata": {
            "needs_background": "light"
          }
        }
      ]
    },
    {
      "cell_type": "markdown",
      "source": [
        "**observations:**\n",
        "\n",
        "1.There is a relationship between SALE_COND and SALES_PRICE\n",
        "\n",
        "2.There is a Linear Relationship between SALE_COND and SALES_PRICE"
      ],
      "metadata": {
        "id": "jDJPwTADL1ND"
      }
    },
    {
      "cell_type": "code",
      "source": [
        "df.replace({\"SALE_COND\":{'Partial':0,'Family':1,'AbNormal':2,'Normal Sale':3,'Adj Land':4}},inplace=True)"
      ],
      "metadata": {
        "id": "JFNaRhilL8VC"
      },
      "execution_count": null,
      "outputs": []
    },
    {
      "cell_type": "markdown",
      "source": [
        "**Data Visualization Plot:PARK_FACIL Vs SALESPRICE**"
      ],
      "metadata": {
        "id": "8GDXcr4eNnzS"
      }
    },
    {
      "cell_type": "code",
      "source": [
        "plt.figure(figsize=(15,7))\n",
        "sns.barplot(x=df.PARK_FACIL,y=df.SALES_PRICE)\n",
        "plt.title(\"PARK_FACIL Vs SALES_PRICE\")"
      ],
      "metadata": {
        "id": "Q72nm1EJNzGq",
        "colab": {
          "base_uri": "https://localhost:8080/",
          "height": 476
        },
        "outputId": "a14f2018-e430-439e-e077-4681b1d7a10c"
      },
      "execution_count": null,
      "outputs": [
        {
          "output_type": "execute_result",
          "data": {
            "text/plain": [
              "Text(0.5, 1.0, 'PARK_FACIL Vs SALES_PRICE')"
            ]
          },
          "metadata": {},
          "execution_count": 125
        },
        {
          "output_type": "display_data",
          "data": {
            "image/png": "[encoded data removed]",
            "text/plain": [
              "<Figure size 1080x504 with 1 Axes>"
            ]
          },
          "metadata": {
            "needs_background": "light"
          }
        }
      ]
    },
    {
      "cell_type": "markdown",
      "source": [
        "Label encoding for PARK_FACIL features column"
      ],
      "metadata": {
        "id": "ZIu4IWSqOFa_"
      }
    },
    {
      "cell_type": "code",
      "source": [
        "df.replace({\"PARK_FACIL\":{'No':0,'Yes':1}},inplace=True)"
      ],
      "metadata": {
        "id": "WKmuLIC1OMQA"
      },
      "execution_count": null,
      "outputs": []
    },
    {
      "cell_type": "markdown",
      "source": [
        "**Data Visualization Plot:BUILDTYPE Vs SALESPRICE**"
      ],
      "metadata": {
        "id": "1YcIIkSiOcDt"
      }
    },
    {
      "cell_type": "code",
      "source": [
        "plt.figure(figsize=(15,7))\n",
        "sns.barplot(x=df.BUILDTYPE,y=df.SALES_PRICE)\n",
        "plt.title(\"BUILDTYPE Vs SALES_PRICE\")"
      ],
      "metadata": {
        "id": "74H_dYl8Oj7k",
        "colab": {
          "base_uri": "https://localhost:8080/",
          "height": 475
        },
        "outputId": "caea3e29-6aa3-41fa-bf90-b151345c2233"
      },
      "execution_count": null,
      "outputs": [
        {
          "output_type": "execute_result",
          "data": {
            "text/plain": [
              "Text(0.5, 1.0, 'BUILDTYPE Vs SALES_PRICE')"
            ]
          },
          "metadata": {},
          "execution_count": 127
        },
        {
          "output_type": "display_data",
          "data": {
            "image/png": "[encoded data removed]",
            "text/plain": [
              "<Figure size 1080x504 with 1 Axes>"
            ]
          },
          "metadata": {
            "needs_background": "light"
          }
        }
      ]
    },
    {
      "cell_type": "markdown",
      "source": [
        "Label encoding for BUILDTYPE feature column"
      ],
      "metadata": {
        "id": "Ii5SreqROviL"
      }
    },
    {
      "cell_type": "code",
      "source": [
        "df.replace({\"BUILDTYPE\":{'House':0,'Others':1,'Commercial':2}},inplace=True)"
      ],
      "metadata": {
        "id": "wqo6YU4kO4EK"
      },
      "execution_count": null,
      "outputs": []
    },
    {
      "cell_type": "markdown",
      "source": [
        "**Data Visualization Plot:UTILITY_AVAIL Vs SALESPRICE**\n",
        "\n",
        "---\n",
        "\n"
      ],
      "metadata": {
        "id": "aoBHjA8cPKHn"
      }
    },
    {
      "cell_type": "code",
      "source": [
        "plt.figure(figsize=(15,7))\n",
        "sns.barplot(x=df.UTILITY_AVAIL,y=df.SALES_PRICE)\n",
        "plt.title(\"UTILITY_AVAIL Vs SALES_PRICE\")"
      ],
      "metadata": {
        "id": "QFx6_zMVPX9w",
        "colab": {
          "base_uri": "https://localhost:8080/",
          "height": 476
        },
        "outputId": "5f22a2b5-9936-453f-ccd1-07e355ae3a75"
      },
      "execution_count": null,
      "outputs": [
        {
          "output_type": "execute_result",
          "data": {
            "text/plain": [
              "Text(0.5, 1.0, 'UTILITY_AVAIL Vs SALES_PRICE')"
            ]
          },
          "metadata": {},
          "execution_count": 129
        },
        {
          "output_type": "display_data",
          "data": {
            "image/png": "[encoded data removed]",
            "text/plain": [
              "<Figure size 1080x504 with 1 Axes>"
            ]
          },
          "metadata": {
            "needs_background": "light"
          }
        }
      ]
    },
    {
      "cell_type": "markdown",
      "source": [
        "Label encoding for UTILITY_AVAIL feature column"
      ],
      "metadata": {
        "id": "_Eu29czfPg5S"
      }
    },
    {
      "cell_type": "code",
      "source": [
        "df.replace({\"UTILITY_AVAIL\":{'ELO':0,'NoSeWa':1,'All Pub':2}},inplace=True)"
      ],
      "metadata": {
        "id": "RzUjUuxLPphI"
      },
      "execution_count": null,
      "outputs": []
    },
    {
      "cell_type": "markdown",
      "source": [
        "**Data Visualization Plot:STREET Vs SALESPRICE**"
      ],
      "metadata": {
        "id": "RuhrcE-3RWNa"
      }
    },
    {
      "cell_type": "code",
      "source": [
        "plt.figure(figsize=(15,7))\n",
        "sns.barplot(x=df.STREET,y=df.SALES_PRICE)\n",
        "plt.title(\"STREET Vs SALES_PRICE\")"
      ],
      "metadata": {
        "id": "jAoJf2DTRezV",
        "colab": {
          "base_uri": "https://localhost:8080/",
          "height": 475
        },
        "outputId": "80b20f90-d4d5-4218-f242-c31dc1a09f37"
      },
      "execution_count": null,
      "outputs": [
        {
          "output_type": "execute_result",
          "data": {
            "text/plain": [
              "Text(0.5, 1.0, 'STREET Vs SALES_PRICE')"
            ]
          },
          "metadata": {},
          "execution_count": 131
        },
        {
          "output_type": "display_data",
          "data": {
            "image/png": "[encoded data removed]",
            "text/plain": [
              "<Figure size 1080x504 with 1 Axes>"
            ]
          },
          "metadata": {
            "needs_background": "light"
          }
        }
      ]
    },
    {
      "cell_type": "markdown",
      "source": [
        "label encoding for STREET Feature column"
      ],
      "metadata": {
        "id": "W0iX11u2Rqhz"
      }
    },
    {
      "cell_type": "code",
      "source": [
        "df.replace({\"STREET\":{'No Access':0,'Paved':1,'Gravel':2}},inplace=True)"
      ],
      "metadata": {
        "id": "G81apZqqRwB-"
      },
      "execution_count": null,
      "outputs": []
    },
    {
      "cell_type": "markdown",
      "source": [
        "**Data Visualization Plot:MZZONE Vs SALESPRICE**"
      ],
      "metadata": {
        "id": "1vz0ANcHSUNH"
      }
    },
    {
      "cell_type": "code",
      "source": [
        "plt.figure(figsize=(15,7))\n",
        "sns.barplot(x=df.MZZONE,y=df.SALES_PRICE)\n",
        "plt.title(\"MZZONE Vs SALES_PRICE\")"
      ],
      "metadata": {
        "id": "OnNBm5TjSWSI",
        "colab": {
          "base_uri": "https://localhost:8080/",
          "height": 475
        },
        "outputId": "b01c9df6-7e23-41f5-e993-f9a61c6319e7"
      },
      "execution_count": null,
      "outputs": [
        {
          "output_type": "execute_result",
          "data": {
            "text/plain": [
              "Text(0.5, 1.0, 'MZZONE Vs SALES_PRICE')"
            ]
          },
          "metadata": {},
          "execution_count": 133
        },
        {
          "output_type": "display_data",
          "data": {
            "image/png": "[encoded data removed]",
            "text/plain": [
              "<Figure size 1080x504 with 1 Axes>"
            ]
          },
          "metadata": {
            "needs_background": "light"
          }
        }
      ]
    },
    {
      "cell_type": "markdown",
      "source": [
        "**Label encoding for MZZONE feature column**"
      ],
      "metadata": {
        "id": "J9qRswg2SlkG"
      }
    },
    {
      "cell_type": "code",
      "source": [
        "df.replace({\"MZZONE\":{'A':0,'C':1,'I':2,'RH':3,'RL':4,'RM':5}},inplace=True)\n",
        "df.head()"
      ],
      "metadata": {
        "id": "SY8CZk_cSqQz",
        "colab": {
          "base_uri": "https://localhost:8080/",
          "height": 206
        },
        "outputId": "9b353861-396d-4ed0-d48f-c94c3aabfed7"
      },
      "execution_count": null,
      "outputs": [
        {
          "output_type": "execute_result",
          "data": {
            "text/html": [
              "\n",
              "  <div id=\"df-0d56f2fc-df0e-4f98-a820-bda7ca48fd86\">\n",
              "    <div class=\"colab-df-container\">\n",
              "      <div>\n",
              "<style scoped>\n",
              "    .dataframe tbody tr th:only-of-type {\n",
              "        vertical-align: middle;\n",
              "    }\n",
              "\n",
              "    .dataframe tbody tr th {\n",
              "        vertical-align: top;\n",
              "    }\n",
              "\n",
              "    .dataframe thead th {\n",
              "        text-align: right;\n",
              "    }\n",
              "</style>\n",
              "<table border=\"1\" class=\"dataframe\">\n",
              "  <thead>\n",
              "    <tr style=\"text-align: right;\">\n",
              "      <th></th>\n",
              "      <th>AREA</th>\n",
              "      <th>INT_SQFT</th>\n",
              "      <th>DIST_MAINROAD</th>\n",
              "      <th>N_BEDROOM</th>\n",
              "      <th>N_BATHROOM</th>\n",
              "      <th>N_ROOM</th>\n",
              "      <th>SALE_COND</th>\n",
              "      <th>PARK_FACIL</th>\n",
              "      <th>BUILDTYPE</th>\n",
              "      <th>UTILITY_AVAIL</th>\n",
              "      <th>STREET</th>\n",
              "      <th>MZZONE</th>\n",
              "      <th>SALES_PRICE</th>\n",
              "      <th>AGE_OF_BUILD</th>\n",
              "    </tr>\n",
              "  </thead>\n",
              "  <tbody>\n",
              "    <tr>\n",
              "      <th>0</th>\n",
              "      <td>0</td>\n",
              "      <td>1004</td>\n",
              "      <td>131</td>\n",
              "      <td>1.0</td>\n",
              "      <td>1.0</td>\n",
              "      <td>3</td>\n",
              "      <td>2</td>\n",
              "      <td>1</td>\n",
              "      <td>2</td>\n",
              "      <td>2</td>\n",
              "      <td>1</td>\n",
              "      <td>0</td>\n",
              "      <td>7600000</td>\n",
              "      <td>44.0</td>\n",
              "    </tr>\n",
              "    <tr>\n",
              "      <th>1</th>\n",
              "      <td>5</td>\n",
              "      <td>1986</td>\n",
              "      <td>26</td>\n",
              "      <td>2.0</td>\n",
              "      <td>1.0</td>\n",
              "      <td>5</td>\n",
              "      <td>2</td>\n",
              "      <td>0</td>\n",
              "      <td>2</td>\n",
              "      <td>2</td>\n",
              "      <td>2</td>\n",
              "      <td>3</td>\n",
              "      <td>21717770</td>\n",
              "      <td>11.0</td>\n",
              "    </tr>\n",
              "    <tr>\n",
              "      <th>2</th>\n",
              "      <td>1</td>\n",
              "      <td>909</td>\n",
              "      <td>70</td>\n",
              "      <td>1.0</td>\n",
              "      <td>1.0</td>\n",
              "      <td>3</td>\n",
              "      <td>2</td>\n",
              "      <td>1</td>\n",
              "      <td>2</td>\n",
              "      <td>0</td>\n",
              "      <td>2</td>\n",
              "      <td>4</td>\n",
              "      <td>13159200</td>\n",
              "      <td>20.0</td>\n",
              "    </tr>\n",
              "    <tr>\n",
              "      <th>3</th>\n",
              "      <td>3</td>\n",
              "      <td>1855</td>\n",
              "      <td>14</td>\n",
              "      <td>3.0</td>\n",
              "      <td>2.0</td>\n",
              "      <td>5</td>\n",
              "      <td>1</td>\n",
              "      <td>0</td>\n",
              "      <td>1</td>\n",
              "      <td>1</td>\n",
              "      <td>1</td>\n",
              "      <td>2</td>\n",
              "      <td>9630290</td>\n",
              "      <td>22.0</td>\n",
              "    </tr>\n",
              "    <tr>\n",
              "      <th>4</th>\n",
              "      <td>0</td>\n",
              "      <td>1226</td>\n",
              "      <td>84</td>\n",
              "      <td>1.0</td>\n",
              "      <td>1.0</td>\n",
              "      <td>3</td>\n",
              "      <td>2</td>\n",
              "      <td>1</td>\n",
              "      <td>1</td>\n",
              "      <td>2</td>\n",
              "      <td>2</td>\n",
              "      <td>1</td>\n",
              "      <td>7406250</td>\n",
              "      <td>30.0</td>\n",
              "    </tr>\n",
              "  </tbody>\n",
              "</table>\n",
              "</div>\n",
              "      <button class=\"colab-df-convert\" onclick=\"convertToInteractive('df-0d56f2fc-df0e-4f98-a820-bda7ca48fd86')\"\n",
              "              title=\"Convert this dataframe to an interactive table.\"\n",
              "              style=\"display:none;\">\n",
              "        \n",
              "  <svg xmlns=\"http://www.w3.org/2000/svg\" height=\"24px\"viewBox=\"0 0 24 24\"\n",
              "       width=\"24px\">\n",
              "    <path d=\"M0 0h24v24H0V0z\" fill=\"none\"/>\n",
              "    <path d=\"M18.56 5.44l.94 2.06.94-2.06 2.06-.94-2.06-.94-.94-2.06-.94 2.06-2.06.94zm-11 1L8.5 8.5l.94-2.06 2.06-.94-2.06-.94L8.5 2.5l-.94 2.06-2.06.94zm10 10l.94 2.06.94-2.06 2.06-.94-2.06-.94-.94-2.06-.94 2.06-2.06.94z\"/><path d=\"M17.41 7.96l-1.37-1.37c-.4-.4-.92-.59-1.43-.59-.52 0-1.04.2-1.43.59L10.3 9.45l-7.72 7.72c-.78.78-.78 2.05 0 2.83L4 21.41c.39.39.9.59 1.41.59.51 0 1.02-.2 1.41-.59l7.78-7.78 2.81-2.81c.8-.78.8-2.07 0-2.86zM5.41 20L4 18.59l7.72-7.72 1.47 1.35L5.41 20z\"/>\n",
              "  </svg>\n",
              "      </button>\n",
              "      \n",
              "  <style>\n",
              "    .colab-df-container {\n",
              "      display:flex;\n",
              "      flex-wrap:wrap;\n",
              "      gap: 12px;\n",
              "    }\n",
              "\n",
              "    .colab-df-convert {\n",
              "      background-color: #E8F0FE;\n",
              "      border: none;\n",
              "      border-radius: 50%;\n",
              "      cursor: pointer;\n",
              "      display: none;\n",
              "      fill: #1967D2;\n",
              "      height: 32px;\n",
              "      padding: 0 0 0 0;\n",
              "      width: 32px;\n",
              "    }\n",
              "\n",
              "    .colab-df-convert:hover {\n",
              "      background-color: #E2EBFA;\n",
              "      box-shadow: 0px 1px 2px rgba(60, 64, 67, 0.3), 0px 1px 3px 1px rgba(60, 64, 67, 0.15);\n",
              "      fill: #174EA6;\n",
              "    }\n",
              "\n",
              "    [theme=dark] .colab-df-convert {\n",
              "      background-color: #3B4455;\n",
              "      fill: #D2E3FC;\n",
              "    }\n",
              "\n",
              "    [theme=dark] .colab-df-convert:hover {\n",
              "      background-color: #434B5C;\n",
              "      box-shadow: 0px 1px 3px 1px rgba(0, 0, 0, 0.15);\n",
              "      filter: drop-shadow(0px 1px 2px rgba(0, 0, 0, 0.3));\n",
              "      fill: #FFFFFF;\n",
              "    }\n",
              "  </style>\n",
              "\n",
              "      <script>\n",
              "        const buttonEl =\n",
              "          document.querySelector('#df-0d56f2fc-df0e-4f98-a820-bda7ca48fd86 button.colab-df-convert');\n",
              "        buttonEl.style.display =\n",
              "          google.colab.kernel.accessAllowed ? 'block' : 'none';\n",
              "\n",
              "        async function convertToInteractive(key) {\n",
              "          const element = document.querySelector('#df-0d56f2fc-df0e-4f98-a820-bda7ca48fd86');\n",
              "          const dataTable =\n",
              "            await google.colab.kernel.invokeFunction('convertToInteractive',\n",
              "                                                     [key], {});\n",
              "          if (!dataTable) return;\n",
              "\n",
              "          const docLinkHtml = 'Like what you see? Visit the ' +\n",
              "            '<a target=\"_blank\" href=https://colab.research.google.com/notebooks/data_table.ipynb>data table notebook</a>'\n",
              "            + ' to learn more about interactive tables.';\n",
              "          element.innerHTML = '';\n",
              "          dataTable['output_type'] = 'display_data';\n",
              "          await google.colab.output.renderOutput(dataTable, element);\n",
              "          const docLink = document.createElement('div');\n",
              "          docLink.innerHTML = docLinkHtml;\n",
              "          element.appendChild(docLink);\n",
              "        }\n",
              "      </script>\n",
              "    </div>\n",
              "  </div>\n",
              "  "
            ],
            "text/plain": [
              "   AREA  INT_SQFT  DIST_MAINROAD  N_BEDROOM  N_BATHROOM  N_ROOM  SALE_COND  \\\n",
              "0     0      1004            131        1.0         1.0       3          2   \n",
              "1     5      1986             26        2.0         1.0       5          2   \n",
              "2     1       909             70        1.0         1.0       3          2   \n",
              "3     3      1855             14        3.0         2.0       5          1   \n",
              "4     0      1226             84        1.0         1.0       3          2   \n",
              "\n",
              "   PARK_FACIL  BUILDTYPE  UTILITY_AVAIL  STREET  MZZONE  SALES_PRICE  \\\n",
              "0           1          2              2       1       0      7600000   \n",
              "1           0          2              2       2       3     21717770   \n",
              "2           1          2              0       2       4     13159200   \n",
              "3           0          1              1       1       2      9630290   \n",
              "4           1          1              2       2       1      7406250   \n",
              "\n",
              "   AGE_OF_BUILD  \n",
              "0          44.0  \n",
              "1          11.0  \n",
              "2          20.0  \n",
              "3          22.0  \n",
              "4          30.0  "
            ]
          },
          "metadata": {},
          "execution_count": 134
        }
      ]
    },
    {
      "cell_type": "markdown",
      "source": [
        "**Data Visualization Plot:N_BEDROOM Vs SALESPRICE**"
      ],
      "metadata": {
        "id": "vHna9qgefYe1"
      }
    },
    {
      "cell_type": "code",
      "source": [
        "plt.figure(figsize=(15,7))\n",
        "sns.barplot(x=df.N_BEDROOM,y=df.SALES_PRICE)\n",
        "plt.title(\"N_BEDROOM Vs SALES_PRICE\")"
      ],
      "metadata": {
        "colab": {
          "base_uri": "https://localhost:8080/",
          "height": 476
        },
        "id": "hnFnlfavfcgW",
        "outputId": "bdf6b184-023f-4834-ac54-5fa2e15ca961"
      },
      "execution_count": null,
      "outputs": [
        {
          "output_type": "execute_result",
          "data": {
            "text/plain": [
              "Text(0.5, 1.0, 'N_BEDROOM Vs SALES_PRICE')"
            ]
          },
          "metadata": {},
          "execution_count": 135
        },
        {
          "output_type": "display_data",
          "data": {
            "image/png": "[encoded data removed]",
            "text/plain": [
              "<Figure size 1080x504 with 1 Axes>"
            ]
          },
          "metadata": {
            "needs_background": "light"
          }
        }
      ]
    },
    {
      "cell_type": "markdown",
      "source": [
        "**There is a linear relationship between N_BEDROOM vs SALES_PRICE**"
      ],
      "metadata": {
        "id": "J0EIFdVugODm"
      }
    },
    {
      "cell_type": "markdown",
      "source": [
        "**Data Visualization Plot:N_BATHROOM Vs SALESPRICE**"
      ],
      "metadata": {
        "id": "I7q4smjjhIWb"
      }
    },
    {
      "cell_type": "code",
      "source": [
        "plt.figure(figsize=(15,7))\n",
        "sns.barplot(x=df.N_BATHROOM,y=df.SALES_PRICE)\n",
        "plt.title(\"N_BATHROOM Vs SALES_PRICE\")"
      ],
      "metadata": {
        "colab": {
          "base_uri": "https://localhost:8080/",
          "height": 476
        },
        "id": "mK6jmT6egf2Q",
        "outputId": "474a014b-fd4d-465e-b98b-e892f88d2b46"
      },
      "execution_count": null,
      "outputs": [
        {
          "output_type": "execute_result",
          "data": {
            "text/plain": [
              "Text(0.5, 1.0, 'N_BATHROOM Vs SALES_PRICE')"
            ]
          },
          "metadata": {},
          "execution_count": 136
        },
        {
          "output_type": "display_data",
          "data": {
            "image/png": "[encoded data removed]",
            "text/plain": [
              "<Figure size 1080x504 with 1 Axes>"
            ]
          },
          "metadata": {
            "needs_background": "light"
          }
        }
      ]
    },
    {
      "cell_type": "markdown",
      "source": [
        "**There is a linear relationship between N_BEDROOM vs SALES_PRICE**"
      ],
      "metadata": {
        "id": "9U-ywaGJglir"
      }
    },
    {
      "cell_type": "markdown",
      "source": [
        " **Data Visualization Plot:N_ROOM Vs SALESPRICE**"
      ],
      "metadata": {
        "id": "kBMlHFW0g4pc"
      }
    },
    {
      "cell_type": "code",
      "source": [
        "plt.figure(figsize=(15,7))\n",
        "sns.barplot(x=df.N_ROOM,y=df.SALES_PRICE)\n",
        "plt.title(\"N_ROOM Vs SALES_PRICE\")"
      ],
      "metadata": {
        "colab": {
          "base_uri": "https://localhost:8080/",
          "height": 476
        },
        "id": "d5KkYs-4gqjH",
        "outputId": "dee8f320-fa52-440a-896d-78c189f881ac"
      },
      "execution_count": null,
      "outputs": [
        {
          "output_type": "execute_result",
          "data": {
            "text/plain": [
              "Text(0.5, 1.0, 'N_ROOM Vs SALES_PRICE')"
            ]
          },
          "metadata": {},
          "execution_count": 137
        },
        {
          "output_type": "display_data",
          "data": {
            "image/png": "[encoded data removed]",
            "text/plain": [
              "<Figure size 1080x504 with 1 Axes>"
            ]
          },
          "metadata": {
            "needs_background": "light"
          }
        }
      ]
    },
    {
      "cell_type": "markdown",
      "source": [
        "**There is a linear relationship between N_ROOM vs SALES_PRICE**"
      ],
      "metadata": {
        "id": "ZRgWVPpYhT_U"
      }
    },
    {
      "cell_type": "markdown",
      "source": [
        "**Data Visualization Plot:INT_SQFT Vs SALESPRICE**"
      ],
      "metadata": {
        "id": "_bAFSPsehe2g"
      }
    },
    {
      "cell_type": "code",
      "source": [
        "plt.scatter(x=df.INT_SQFT,y=df.SALES_PRICE)\n",
        "plt.xlabel(\"INT_SQFT\")\n",
        "plt.ylabel(\"SALES_PRICE\")\n",
        "plt.show()"
      ],
      "metadata": {
        "colab": {
          "base_uri": "https://localhost:8080/",
          "height": 291
        },
        "id": "IsCp3nhfhnZ7",
        "outputId": "27b02b01-009e-4346-a7dc-c7a5c63e4261"
      },
      "execution_count": null,
      "outputs": [
        {
          "output_type": "display_data",
          "data": {
            "image/png": "[encoded data removed]",
            "text/plain": [
              "<Figure size 432x288 with 1 Axes>"
            ]
          },
          "metadata": {
            "needs_background": "light"
          }
        }
      ]
    },
    {
      "cell_type": "markdown",
      "source": [
        "**Correlation Matrix:**"
      ],
      "metadata": {
        "id": "vN1Yita8e5c_"
      }
    },
    {
      "cell_type": "code",
      "source": [
        "correlation=df.corr()"
      ],
      "metadata": {
        "id": "dao6R9JWVykl"
      },
      "execution_count": null,
      "outputs": []
    },
    {
      "cell_type": "code",
      "source": [
        "plt.figure(figsize=(10,10))\n",
        "sns.heatmap(correlation,cbar=True,square=True,annot=True,fmt='.1f',cmap='Blues')"
      ],
      "metadata": {
        "colab": {
          "base_uri": "https://localhost:8080/",
          "height": 637
        },
        "id": "vODKgujtV5uQ",
        "outputId": "33499631-0bc9-498c-d049-b460c1801972"
      },
      "execution_count": null,
      "outputs": [
        {
          "output_type": "execute_result",
          "data": {
            "text/plain": [
              "<matplotlib.axes._subplots.AxesSubplot at 0x7f0225062c90>"
            ]
          },
          "metadata": {},
          "execution_count": 140
        },
        {
          "output_type": "display_data",
          "data": {
            "image/png": "[encoded data removed]",
            "text/plain": [
              "<Figure size 720x720 with 2 Axes>"
            ]
          },
          "metadata": {
            "needs_background": "light"
          }
        }
      ]
    },
    {
      "cell_type": "markdown",
      "source": [
        "**Splitting the data and Target**"
      ],
      "metadata": {
        "id": "TtE6wrprXnrf"
      }
    },
    {
      "cell_type": "code",
      "source": [
        "x=df.drop(['SALES_PRICE'],axis=1)\n",
        "y=df['SALES_PRICE']"
      ],
      "metadata": {
        "id": "iuMF_2EoXvy3"
      },
      "execution_count": null,
      "outputs": []
    },
    {
      "cell_type": "code",
      "source": [
        "print(x)\n",
        "print(y)"
      ],
      "metadata": {
        "colab": {
          "base_uri": "https://localhost:8080/"
        },
        "id": "0roTkIa9YHFP",
        "outputId": "5c50ff35-d713-4a69-8153-76b0103764f9"
      },
      "execution_count": null,
      "outputs": [
        {
          "output_type": "stream",
          "name": "stdout",
          "text": [
            "      AREA  INT_SQFT  DIST_MAINROAD  N_BEDROOM  N_BATHROOM  N_ROOM  SALE_COND  \\\n",
            "0        0      1004            131        1.0         1.0       3          2   \n",
            "1        5      1986             26        2.0         1.0       5          2   \n",
            "2        1       909             70        1.0         1.0       3          2   \n",
            "3        3      1855             14        3.0         2.0       5          1   \n",
            "4        0      1226             84        1.0         1.0       3          2   \n",
            "...    ...       ...            ...        ...         ...     ...        ...   \n",
            "7104     0       598             51        1.0         1.0       2          4   \n",
            "7105     3      1897             52        3.0         2.0       5          1   \n",
            "7106     3      1614            152        2.0         1.0       4          3   \n",
            "7107     0       787             40        1.0         1.0       2          0   \n",
            "7108     3      1896            156        3.0         2.0       5          0   \n",
            "\n",
            "      PARK_FACIL  BUILDTYPE  UTILITY_AVAIL  STREET  MZZONE  AGE_OF_BUILD  \n",
            "0              1          2              2       1       0          44.0  \n",
            "1              0          2              2       2       3          11.0  \n",
            "2              1          2              0       2       4          20.0  \n",
            "3              0          1              1       1       2          22.0  \n",
            "4              1          1              2       2       1          30.0  \n",
            "...          ...        ...            ...     ...     ...           ...  \n",
            "7104           0          1              0       0       5          49.0  \n",
            "7105           1          1              1       0       3           9.0  \n",
            "7106           0          0              1       2       2          29.0  \n",
            "7107           1          2              0       1       4          31.0  \n",
            "7108           1          1              0       1       2          44.0  \n",
            "\n",
            "[7109 rows x 13 columns]\n",
            "0        7600000\n",
            "1       21717770\n",
            "2       13159200\n",
            "3        9630290\n",
            "4        7406250\n",
            "          ...   \n",
            "7104     5353000\n",
            "7105    10818480\n",
            "7106     8351410\n",
            "7107     8507000\n",
            "7108     9976480\n",
            "Name: SALES_PRICE, Length: 7109, dtype: int64\n"
          ]
        }
      ]
    },
    {
      "cell_type": "markdown",
      "source": [
        "**Splitting the data into train and test data**"
      ],
      "metadata": {
        "id": "N7_kreqbYLYb"
      }
    },
    {
      "cell_type": "code",
      "source": [
        "x_Train,x_Test,y_Train,y_Test=train_test_split(x,y,test_size=0.2,random_state=2)"
      ],
      "metadata": {
        "id": "k6kNziFzYSlJ"
      },
      "execution_count": null,
      "outputs": []
    },
    {
      "cell_type": "markdown",
      "source": [
        "**Model Training: Linear Regression**"
      ],
      "metadata": {
        "id": "GEryJDpSaEFU"
      }
    },
    {
      "cell_type": "code",
      "source": [
        "lin_reg_model=LinearRegression()"
      ],
      "metadata": {
        "id": "B39JN94VaTfF"
      },
      "execution_count": null,
      "outputs": []
    },
    {
      "cell_type": "code",
      "source": [
        "lin_reg_model.fit(x_Train,y_Train)"
      ],
      "metadata": {
        "colab": {
          "base_uri": "https://localhost:8080/"
        },
        "id": "wucFg3SiacGe",
        "outputId": "27af315a-035e-405b-aed5-ab06d0e9a3ee"
      },
      "execution_count": null,
      "outputs": [
        {
          "output_type": "execute_result",
          "data": {
            "text/plain": [
              "LinearRegression()"
            ]
          },
          "metadata": {},
          "execution_count": 145
        }
      ]
    },
    {
      "cell_type": "markdown",
      "source": [
        "**Model Evaluation:Linear Regression(R-Square Method)**"
      ],
      "metadata": {
        "id": "W0C7CN_9amSL"
      }
    },
    {
      "cell_type": "code",
      "source": [
        "training_data_prediction=lin_reg_model.predict(x_Train)"
      ],
      "metadata": {
        "id": "BmvdJg5Fauvp"
      },
      "execution_count": null,
      "outputs": []
    },
    {
      "cell_type": "code",
      "source": [
        "error_score=metrics.r2_score(y_Train,training_data_prediction)\n",
        "print(\"Linear regression model training data R-squared error is\",error_score)"
      ],
      "metadata": {
        "colab": {
          "base_uri": "https://localhost:8080/"
        },
        "id": "v-MpvqNMa8NG",
        "outputId": "86bc5fbe-96b0-444e-8e35-3d96613fc3c0"
      },
      "execution_count": null,
      "outputs": [
        {
          "output_type": "stream",
          "name": "stdout",
          "text": [
            "Linear regression model training data R-squared error is 0.882968160488941\n"
          ]
        }
      ]
    },
    {
      "cell_type": "markdown",
      "source": [
        "**Visualizing the Actual Price vs Predicted Price**"
      ],
      "metadata": {
        "id": "Vrz1a7EACZmO"
      }
    },
    {
      "cell_type": "code",
      "source": [
        "plt.scatter(y_Train,training_data_prediction)\n",
        "plt.xlabel(\"Actual Price\")\n",
        "plt.ylabel(\"Predicted Price\")\n",
        "plt.show()"
      ],
      "metadata": {
        "colab": {
          "base_uri": "https://localhost:8080/",
          "height": 290
        },
        "id": "x-rIBqhLCikp",
        "outputId": "7cc8e952-9600-4a1f-eeb5-11f2b759003c"
      },
      "execution_count": null,
      "outputs": [
        {
          "output_type": "display_data",
          "data": {
            "image/png": "[encoded data removed]",
            "text/plain": [
              "<Figure size 432x288 with 1 Axes>"
            ]
          },
          "metadata": {
            "needs_background": "light"
          }
        }
      ]
    },
    {
      "cell_type": "code",
      "source": [
        "lin_reg_model.fit(x_Test,y_Test)"
      ],
      "metadata": {
        "colab": {
          "base_uri": "https://localhost:8080/"
        },
        "id": "TNov_4ttPN9c",
        "outputId": "0d3dc7b1-3e8c-4b44-d8cf-f3c1ba43adf5"
      },
      "execution_count": null,
      "outputs": [
        {
          "output_type": "execute_result",
          "data": {
            "text/plain": [
              "LinearRegression()"
            ]
          },
          "metadata": {},
          "execution_count": 149
        }
      ]
    },
    {
      "cell_type": "markdown",
      "source": [
        "**Model prediction on Test data Linear Regression**"
      ],
      "metadata": {
        "id": "rjAVWzbFPdkr"
      }
    },
    {
      "cell_type": "code",
      "source": [
        "testing_data_prediction=lin_reg_model.predict(x_Test)"
      ],
      "metadata": {
        "id": "Hm-KI_7lPoRn"
      },
      "execution_count": null,
      "outputs": []
    },
    {
      "cell_type": "markdown",
      "source": [
        "**Evaluation Metrics on Test data-R-Squared error**"
      ],
      "metadata": {
        "id": "VhztiN50P3FK"
      }
    },
    {
      "cell_type": "code",
      "source": [
        "error_score_testing=metrics.r2_score(y_Test,testing_data_prediction)\n",
        "print(\"Linear regression model testing data R-squared error is\",error_score_testing)"
      ],
      "metadata": {
        "colab": {
          "base_uri": "https://localhost:8080/"
        },
        "id": "jyVwg3NRQAOQ",
        "outputId": "3ded6b19-cab8-4eb4-d5d4-602bd864233b"
      },
      "execution_count": null,
      "outputs": [
        {
          "output_type": "stream",
          "name": "stdout",
          "text": [
            "Linear regression model testing data R-squared error is 0.8771575362939672\n"
          ]
        }
      ]
    },
    {
      "cell_type": "markdown",
      "source": [
        "**Visualizing the actual price vs predicted price on test data**"
      ],
      "metadata": {
        "id": "rfsj1JmEQRqE"
      }
    },
    {
      "cell_type": "code",
      "source": [
        "plt.scatter(y_Test,testing_data_prediction)\n",
        "plt.xlabel(\"Actual Price\")\n",
        "plt.ylabel(\"Predicted Price\")\n",
        "plt.show()"
      ],
      "metadata": {
        "colab": {
          "base_uri": "https://localhost:8080/",
          "height": 290
        },
        "id": "grXZtmL4QaoB",
        "outputId": "a797de2d-3f55-4bb5-bb77-d9f3b63436f0"
      },
      "execution_count": null,
      "outputs": [
        {
          "output_type": "display_data",
          "data": {
            "image/png": "[encoded data removed]",
            "text/plain": [
              "<Figure size 432x288 with 1 Axes>"
            ]
          },
          "metadata": {
            "needs_background": "light"
          }
        }
      ]
    },
    {
      "cell_type": "markdown",
      "source": [
        "**Model Training:Decision Tree Regressor**"
      ],
      "metadata": {
        "id": "OWL2aHO9QpOX"
      }
    },
    {
      "cell_type": "code",
      "source": [
        "Dt_Reg=DecisionTreeRegressor()"
      ],
      "metadata": {
        "id": "7J8ZcAI0DqXe"
      },
      "execution_count": null,
      "outputs": []
    },
    {
      "cell_type": "code",
      "source": [
        "Dt_Reg.fit(x_Train,y_Train)"
      ],
      "metadata": {
        "colab": {
          "base_uri": "https://localhost:8080/"
        },
        "id": "Hr5e0EAPDuqJ",
        "outputId": "51a1b031-9e08-498c-ac5f-b3eebdecdac6"
      },
      "execution_count": null,
      "outputs": [
        {
          "output_type": "execute_result",
          "data": {
            "text/plain": [
              "DecisionTreeRegressor()"
            ]
          },
          "metadata": {},
          "execution_count": 154
        }
      ]
    },
    {
      "cell_type": "markdown",
      "source": [
        "**Model Prediction on Training data:Decision Tree regressor**"
      ],
      "metadata": {
        "id": "81CmDHbeRkEs"
      }
    },
    {
      "cell_type": "code",
      "source": [
        "training_data_prediction_Dt=Dt_Reg.predict(x_Train)"
      ],
      "metadata": {
        "id": "ynmVAMRID7u0"
      },
      "execution_count": null,
      "outputs": []
    },
    {
      "cell_type": "markdown",
      "source": [
        "**Evaluation Metrics on Training data**"
      ],
      "metadata": {
        "id": "bG7AeVeXR2K0"
      }
    },
    {
      "cell_type": "code",
      "source": [
        "error_score_Dt=metrics.r2_score(y_Train,training_data_prediction_Dt)\n",
        "print(\"Decision Tree Regressor Training data R-Squared error is\",error_score_Dt)"
      ],
      "metadata": {
        "colab": {
          "base_uri": "https://localhost:8080/"
        },
        "id": "joSbLjx5EJ0K",
        "outputId": "e60c8fd0-60a7-49ac-c88d-28cef3cf47e9"
      },
      "execution_count": null,
      "outputs": [
        {
          "output_type": "stream",
          "name": "stdout",
          "text": [
            "Decision Tree Regressor Training data R-Squared error is 1.0\n"
          ]
        }
      ]
    },
    {
      "cell_type": "markdown",
      "source": [
        "**Visualizing the actual price vs predicted price on training data**"
      ],
      "metadata": {
        "id": "ll3sfaTPSVrT"
      }
    },
    {
      "cell_type": "code",
      "source": [
        "plt.scatter(y_Train,training_data_prediction_Dt)\n",
        "plt.xlabel(\"Actual Price\")\n",
        "plt.ylabel(\"Predicted Price\")\n",
        "plt.show()"
      ],
      "metadata": {
        "colab": {
          "base_uri": "https://localhost:8080/",
          "height": 290
        },
        "id": "tb-9RGUsSfpc",
        "outputId": "14a3ed8f-6e05-43ce-b7a4-e8169ab3b10c"
      },
      "execution_count": null,
      "outputs": [
        {
          "output_type": "display_data",
          "data": {
            "image/png": "[encoded data removed]",
            "text/plain": [
              "<Figure size 432x288 with 1 Axes>"
            ]
          },
          "metadata": {
            "needs_background": "light"
          }
        }
      ]
    },
    {
      "cell_type": "markdown",
      "source": [
        "**Observations**:\n",
        "\n",
        "1.while Training the training data set using Decision tree model,it will give the perfect linear curve and R-square error value also 1 \n",
        "\n",
        "2.This model overfitting the Training data set"
      ],
      "metadata": {
        "id": "CDHYz02HSsKI"
      }
    },
    {
      "cell_type": "code",
      "source": [
        "Dt_Reg.fit(x_Test,y_Test)"
      ],
      "metadata": {
        "colab": {
          "base_uri": "https://localhost:8080/"
        },
        "id": "Xtx_n9rCTuD8",
        "outputId": "30a53fa1-a30c-4cc9-8eee-ff2e5258e014"
      },
      "execution_count": null,
      "outputs": [
        {
          "output_type": "execute_result",
          "data": {
            "text/plain": [
              "DecisionTreeRegressor()"
            ]
          },
          "metadata": {},
          "execution_count": 158
        }
      ]
    },
    {
      "cell_type": "markdown",
      "source": [
        "**Model Prediction on Testing data:Decision Tree regressor**"
      ],
      "metadata": {
        "id": "5BBoINGTTyuG"
      }
    },
    {
      "cell_type": "code",
      "source": [
        "testing_data_prediction_Dt=Dt_Reg.predict(x_Test)"
      ],
      "metadata": {
        "id": "3zRz2lduT7ju"
      },
      "execution_count": null,
      "outputs": []
    },
    {
      "cell_type": "markdown",
      "source": [
        "**Evaluation Metrics on Testing data**"
      ],
      "metadata": {
        "id": "GrDXassiUJHh"
      }
    },
    {
      "cell_type": "code",
      "source": [
        "error_score_Dt_test=metrics.r2_score(y_Test,testing_data_prediction_Dt)\n",
        "print(\"Decision Tree Regressor testing data R-Squared error is\",error_score_Dt_test)"
      ],
      "metadata": {
        "colab": {
          "base_uri": "https://localhost:8080/"
        },
        "id": "bqWLGGOAUQik",
        "outputId": "2523248f-719f-418e-d9db-74f49743a956"
      },
      "execution_count": null,
      "outputs": [
        {
          "output_type": "stream",
          "name": "stdout",
          "text": [
            "Decision Tree Regressor testing data R-Squared error is 1.0\n"
          ]
        }
      ]
    },
    {
      "cell_type": "markdown",
      "source": [
        "**Visualizing the actual price vs predicted price on testing data**"
      ],
      "metadata": {
        "id": "m-bwOfuBUrAt"
      }
    },
    {
      "cell_type": "code",
      "source": [
        "plt.scatter(y_Test,testing_data_prediction_Dt)\n",
        "plt.xlabel(\"Actual Price\")\n",
        "plt.ylabel(\"Predicted Price\")\n",
        "plt.show()"
      ],
      "metadata": {
        "colab": {
          "base_uri": "https://localhost:8080/",
          "height": 290
        },
        "id": "QfIGbgm-UuFr",
        "outputId": "3c53c9b5-cadc-4a84-fc12-9f16e70c7980"
      },
      "execution_count": null,
      "outputs": [
        {
          "output_type": "display_data",
          "data": {
            "image/png": "[encoded data removed]",
            "text/plain": [
              "<Figure size 432x288 with 1 Axes>"
            ]
          },
          "metadata": {
            "needs_background": "light"
          }
        }
      ]
    },
    {
      "cell_type": "markdown",
      "source": [
        "**Observations:**\n",
        "\n",
        "1.while Training the testing data set using Decision tree model,it will give the perfect linear curve and R-square error value also 1 \n",
        "\n",
        "2.This model overfitting both Training and Testing data set\n",
        "\n",
        "3.To Avoid Overfitting of the Decision Tree Model,we will move on to random Forest Regressor"
      ],
      "metadata": {
        "id": "R_cTi5CzU8bJ"
      }
    },
    {
      "cell_type": "markdown",
      "source": [
        "**Model Training:Random Forest Regressor**"
      ],
      "metadata": {
        "id": "jhavmRygLhsi"
      }
    },
    {
      "cell_type": "code",
      "source": [
        "rf=RandomForestRegressor()"
      ],
      "metadata": {
        "id": "CKM0DzGoLoKF"
      },
      "execution_count": null,
      "outputs": []
    },
    {
      "cell_type": "code",
      "source": [
        "rf.fit(x_Train,y_Train)"
      ],
      "metadata": {
        "colab": {
          "base_uri": "https://localhost:8080/"
        },
        "id": "NJvKztZ8Lxn7",
        "outputId": "5cd631d7-011b-4b47-a563-b0cca6ce06de"
      },
      "execution_count": null,
      "outputs": [
        {
          "output_type": "execute_result",
          "data": {
            "text/plain": [
              "RandomForestRegressor()"
            ]
          },
          "metadata": {},
          "execution_count": 163
        }
      ]
    },
    {
      "cell_type": "markdown",
      "source": [
        "**Predict the training data using RandomForestRegressor**"
      ],
      "metadata": {
        "id": "gC9ThPBVL-QG"
      }
    },
    {
      "cell_type": "code",
      "source": [
        "training_data_prediction_rf=rf.predict(x_Train)"
      ],
      "metadata": {
        "id": "sjbPtKHOME7-"
      },
      "execution_count": null,
      "outputs": []
    },
    {
      "cell_type": "markdown",
      "source": [
        "***Evaluate the Training data model***"
      ],
      "metadata": {
        "id": "13xADwS7MVBT"
      }
    },
    {
      "cell_type": "code",
      "source": [
        "tf_score_training=metrics.r2_score(y_Train,training_data_prediction_rf)\n",
        "print(\"Random Forest training data R-Squared error is\",tf_score_training)"
      ],
      "metadata": {
        "colab": {
          "base_uri": "https://localhost:8080/"
        },
        "id": "t_Jw3zkgMa4u",
        "outputId": "5f88343b-9ab8-45a9-d701-feb687150d63"
      },
      "execution_count": null,
      "outputs": [
        {
          "output_type": "stream",
          "name": "stdout",
          "text": [
            "Random Forest training data R-Squared error is 0.9983709271451761\n"
          ]
        }
      ]
    },
    {
      "cell_type": "markdown",
      "source": [
        "**Visualizing Actual Price vs predicted Price on Training data**"
      ],
      "metadata": {
        "id": "E-upBQ4NMuA2"
      }
    },
    {
      "cell_type": "code",
      "source": [
        "plt.scatter(y_Train,training_data_prediction_rf)\n",
        "plt.xlabel(\"Actual Price\")\n",
        "plt.ylabel(\"Predicted Price\")\n",
        "plt.show()"
      ],
      "metadata": {
        "colab": {
          "base_uri": "https://localhost:8080/",
          "height": 290
        },
        "id": "HHYxbQpnM6jS",
        "outputId": "22474a8b-ed88-466a-9b40-dea379424248"
      },
      "execution_count": null,
      "outputs": [
        {
          "output_type": "display_data",
          "data": {
            "image/png": "[encoded data removed]",
            "text/plain": [
              "<Figure size 432x288 with 1 Axes>"
            ]
          },
          "metadata": {
            "needs_background": "light"
          }
        }
      ]
    },
    {
      "cell_type": "markdown",
      "source": [
        ""
      ],
      "metadata": {
        "id": "vq3TMSfBNNb7"
      }
    },
    {
      "cell_type": "code",
      "source": [
        "rf.fit(x_Test,y_Test)"
      ],
      "metadata": {
        "colab": {
          "base_uri": "https://localhost:8080/"
        },
        "id": "z-Xz4awcNUgE",
        "outputId": "9f99e7fc-23d5-4fc7-f589-3ca5e373a37a"
      },
      "execution_count": null,
      "outputs": [
        {
          "output_type": "execute_result",
          "data": {
            "text/plain": [
              "RandomForestRegressor()"
            ]
          },
          "metadata": {},
          "execution_count": 167
        }
      ]
    },
    {
      "cell_type": "markdown",
      "source": [
        "**Predict the testing data using RandomForestRegressor**"
      ],
      "metadata": {
        "id": "ztDxh1rhNiOQ"
      }
    },
    {
      "cell_type": "code",
      "source": [
        "testing_data_prediction_rf=rf.predict(x_Test)"
      ],
      "metadata": {
        "id": "ov6liEWqNrI1"
      },
      "execution_count": null,
      "outputs": []
    },
    {
      "cell_type": "markdown",
      "source": [
        "**Evaluate the Testing data model**"
      ],
      "metadata": {
        "id": "UBNunI8cN1tl"
      }
    },
    {
      "cell_type": "code",
      "source": [
        "testing_data_prediction_rf=rf.predict(x_Test)"
      ],
      "metadata": {
        "id": "k1JAIPRkOB2E"
      },
      "execution_count": null,
      "outputs": []
    },
    {
      "cell_type": "markdown",
      "source": [
        "**Evaluate the Testing data model**"
      ],
      "metadata": {
        "id": "UdCC12yNOJKc"
      }
    },
    {
      "cell_type": "code",
      "source": [
        "tf_score_testing=metrics.r2_score(y_Test,testing_data_prediction_rf)\n",
        "print(\"Random Forest test data R-Squared error is\",tf_score_testing)"
      ],
      "metadata": {
        "colab": {
          "base_uri": "https://localhost:8080/"
        },
        "id": "6g-S4hmnOSza",
        "outputId": "b8e7ac52-9a6b-496e-9bbf-56dd8c4c90c4"
      },
      "execution_count": null,
      "outputs": [
        {
          "output_type": "stream",
          "name": "stdout",
          "text": [
            "Random Forest test data R-Squared error is 0.9962680222341357\n"
          ]
        }
      ]
    },
    {
      "cell_type": "markdown",
      "source": [
        "**Visualizing Actual Price vs predicted Price on Testing data**"
      ],
      "metadata": {
        "id": "39Edf4PWOk-4"
      }
    },
    {
      "cell_type": "code",
      "source": [
        "plt.scatter(y_Test,testing_data_prediction_rf)\n",
        "plt.xlabel(\"Actual Price\")\n",
        "plt.ylabel(\"Predicted Price\")\n",
        "plt.show()"
      ],
      "metadata": {
        "colab": {
          "base_uri": "https://localhost:8080/",
          "height": 290
        },
        "id": "dWhKCcENOucG",
        "outputId": "303f9802-79ac-4d44-b8d3-1baff88db9b4"
      },
      "execution_count": null,
      "outputs": [
        {
          "output_type": "display_data",
          "data": {
            "image/png": "[encoded data removed]",
            "text/plain": [
              "<Figure size 432x288 with 1 Axes>"
            ]
          },
          "metadata": {
            "needs_background": "light"
          }
        }
      ]
    },
    {
      "cell_type": "markdown",
      "source": [
        "**Model Training:XGBoost Regressor**"
      ],
      "metadata": {
        "id": "IuEXkrwMFIaE"
      }
    },
    {
      "cell_type": "code",
      "source": [
        "model=XGBRegressor()"
      ],
      "metadata": {
        "id": "e78cxAnxFNdp"
      },
      "execution_count": null,
      "outputs": []
    },
    {
      "cell_type": "code",
      "source": [
        "model.fit(x_Train,y_Train)"
      ],
      "metadata": {
        "id": "KrX5fS8LFTx6",
        "outputId": "8408d9f5-9f18-4913-c80f-ae83e227e67f",
        "colab": {
          "base_uri": "https://localhost:8080/"
        }
      },
      "execution_count": null,
      "outputs": [
        {
          "output_type": "stream",
          "name": "stdout",
          "text": [
            "[05:48:49] WARNING: /workspace/src/objective/regression_obj.cu:152: reg:linear is now deprecated in favor of reg:squarederror.\n"
          ]
        },
        {
          "output_type": "execute_result",
          "data": {
            "text/plain": [
              "XGBRegressor()"
            ]
          },
          "metadata": {},
          "execution_count": 173
        }
      ]
    },
    {
      "cell_type": "markdown",
      "source": [
        "**Predict the training data using XGB Regressor Model**"
      ],
      "metadata": {
        "id": "QLzZkF4pH0rv"
      }
    },
    {
      "cell_type": "code",
      "source": [
        "training_data_prediction_XGB=model.predict(x_Train)"
      ],
      "metadata": {
        "id": "wAWPogLiFzr7"
      },
      "execution_count": null,
      "outputs": []
    },
    {
      "cell_type": "markdown",
      "source": [
        "**Evaluate the training data model:R-Squared Metrics**"
      ],
      "metadata": {
        "id": "DgnOlaDOIBzu"
      }
    },
    {
      "cell_type": "code",
      "source": [
        "score_1=metrics.r2_score(y_Train,training_data_prediction_XGB)\n",
        "print(\"XGB Regressor Training data R-Squared Error is\",score_1)"
      ],
      "metadata": {
        "colab": {
          "base_uri": "https://localhost:8080/"
        },
        "id": "CgoyV5DwGD1B",
        "outputId": "8efde378-551b-4b7b-9f7e-27a277c35335"
      },
      "execution_count": null,
      "outputs": [
        {
          "output_type": "stream",
          "name": "stdout",
          "text": [
            "XGB Regressor Training data R-Squared Error is 0.9921245625166394\n"
          ]
        }
      ]
    },
    {
      "cell_type": "markdown",
      "source": [
        "**Visualizing the actual price vs predicted price on training data**"
      ],
      "metadata": {
        "id": "kGKbJZWPKKJQ"
      }
    },
    {
      "cell_type": "code",
      "source": [
        "plt.scatter(y_Train,training_data_prediction_XGB)\n",
        "plt.xlabel(\"Actual Price\")\n",
        "plt.ylabel(\"Predicted Price\")\n",
        "plt.show()"
      ],
      "metadata": {
        "colab": {
          "base_uri": "https://localhost:8080/",
          "height": 290
        },
        "id": "E-AWJfEKKYoT",
        "outputId": "42e6c1c6-3be1-44f5-8f34-db8a1b364fa1"
      },
      "execution_count": null,
      "outputs": [
        {
          "output_type": "display_data",
          "data": {
            "image/png": "[encoded data removed]",
            "text/plain": [
              "<Figure size 432x288 with 1 Axes>"
            ]
          },
          "metadata": {
            "needs_background": "light"
          }
        }
      ]
    },
    {
      "cell_type": "markdown",
      "source": [
        "**Fit the model on Test Data**"
      ],
      "metadata": {
        "id": "VqLT373jIPan"
      }
    },
    {
      "cell_type": "code",
      "source": [
        "model.fit(x_Test,y_Test)"
      ],
      "metadata": {
        "colab": {
          "base_uri": "https://localhost:8080/"
        },
        "id": "Ka_2DU3iIU2a",
        "outputId": "50fd4cd9-9780-4fda-cee2-4d48ed39711a"
      },
      "execution_count": null,
      "outputs": [
        {
          "output_type": "stream",
          "name": "stdout",
          "text": [
            "[05:48:49] WARNING: /workspace/src/objective/regression_obj.cu:152: reg:linear is now deprecated in favor of reg:squarederror.\n"
          ]
        },
        {
          "output_type": "execute_result",
          "data": {
            "text/plain": [
              "XGBRegressor()"
            ]
          },
          "metadata": {},
          "execution_count": 177
        }
      ]
    },
    {
      "cell_type": "markdown",
      "source": [
        "**Predict the testing data using XGB Regressor Model** "
      ],
      "metadata": {
        "id": "tgQHaSo9ImHc"
      }
    },
    {
      "cell_type": "code",
      "source": [
        "testing_data_prediction_XGB=model.predict(x_Test)"
      ],
      "metadata": {
        "id": "746d0rU3Ivjp"
      },
      "execution_count": null,
      "outputs": []
    },
    {
      "cell_type": "markdown",
      "source": [
        "**Evaluate the testing data model:R-Squared Metrics**"
      ],
      "metadata": {
        "id": "cY99ug3zI9gG"
      }
    },
    {
      "cell_type": "code",
      "source": [
        "score_2=metrics.r2_score(y_Test,testing_data_prediction_XGB)\n",
        "print(\"XGB Regressor Testing data R-Squared Error is\",score_2)"
      ],
      "metadata": {
        "colab": {
          "base_uri": "https://localhost:8080/"
        },
        "id": "cRZ03zexJGDb",
        "outputId": "950e5f00-0be7-4a20-892e-d832471f99a5"
      },
      "execution_count": null,
      "outputs": [
        {
          "output_type": "stream",
          "name": "stdout",
          "text": [
            "XGB Regressor Testing data R-Squared Error is 0.9925226818809283\n"
          ]
        }
      ]
    },
    {
      "cell_type": "markdown",
      "source": [
        "**Visualizing the actual price vs predicted price on test data**"
      ],
      "metadata": {
        "id": "--zJfgJCJgzW"
      }
    },
    {
      "cell_type": "code",
      "source": [
        "plt.scatter(y_Test,testing_data_prediction_XGB)\n",
        "plt.xlabel(\"Actual Price\")\n",
        "plt.ylabel(\"Predicted Price\")\n",
        "plt.show()"
      ],
      "metadata": {
        "colab": {
          "base_uri": "https://localhost:8080/",
          "height": 290
        },
        "id": "aMLi5QnAJvlI",
        "outputId": "2bda9b16-c062-4d30-b8d5-5a0542fee332"
      },
      "execution_count": null,
      "outputs": [
        {
          "output_type": "display_data",
          "data": {
            "image/png": "[encoded data removed]",
            "text/plain": [
              "<Figure size 432x288 with 1 Axes>"
            ]
          },
          "metadata": {
            "needs_background": "light"
          }
        }
      ]
    }
  ]
}